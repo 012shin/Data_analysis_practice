{
 "cells": [
  {
   "cell_type": "markdown",
   "id": "cddcf909",
   "metadata": {
    "ExecuteTime": {
     "end_time": "2023-01-06T06:04:52.620660Z",
     "start_time": "2023-01-06T06:04:52.603755Z"
    }
   },
   "source": [
    "# 서울에 있는 종합병원의 분포 알아보기"
   ]
  },
  {
   "cell_type": "code",
   "execution_count": 1,
   "id": "c974b337",
   "metadata": {
    "ExecuteTime": {
     "end_time": "2023-01-06T07:26:31.978274Z",
     "start_time": "2023-01-06T07:26:28.517936Z"
    }
   },
   "outputs": [],
   "source": [
    "import pandas as pd\n",
    "import numpy as np\n",
    "import matplotlib.pyplot as plt\n",
    "import seaborn as sns"
   ]
  },
  {
   "cell_type": "code",
   "execution_count": 2,
   "id": "662b71f8",
   "metadata": {
    "ExecuteTime": {
     "end_time": "2023-01-06T07:26:31.993870Z",
     "start_time": "2023-01-06T07:26:31.980904Z"
    }
   },
   "outputs": [],
   "source": [
    "plt.rc('font',family='Malgun Gothic')\n",
    "plt.rc('axes', unicode_minus=False)"
   ]
  },
  {
   "cell_type": "markdown",
   "id": "fb872fb0",
   "metadata": {},
   "source": [
    "## 데이터가져오기"
   ]
  },
  {
   "cell_type": "code",
   "execution_count": 3,
   "id": "54978beb",
   "metadata": {
    "ExecuteTime": {
     "end_time": "2023-01-06T07:26:33.383960Z",
     "start_time": "2023-01-06T07:26:31.995866Z"
    }
   },
   "outputs": [],
   "source": [
    "df = pd.read_csv('C:/Users/82109/data_setting/data/소상공인시장진흥공단_상가업소정보_의료기관_201909.csv',encoding='cp949')"
   ]
  },
  {
   "cell_type": "code",
   "execution_count": 4,
   "id": "970922bd",
   "metadata": {
    "ExecuteTime": {
     "end_time": "2023-01-06T07:26:33.414195Z",
     "start_time": "2023-01-06T07:26:33.389383Z"
    },
    "scrolled": true
   },
   "outputs": [
    {
     "data": {
      "text/plain": [
       "(91335, 39)"
      ]
     },
     "execution_count": 4,
     "metadata": {},
     "output_type": "execute_result"
    }
   ],
   "source": [
    "df.shape"
   ]
  },
  {
   "cell_type": "markdown",
   "id": "2f390cda",
   "metadata": {},
   "source": [
    "#shift + tap 키를 누르시면 docstring을 볼 수 있다.\n",
    "#head로 데이터 미리보기\n",
    "df.head(1)"
   ]
  },
  {
   "cell_type": "code",
   "execution_count": 5,
   "id": "942296ff",
   "metadata": {
    "ExecuteTime": {
     "end_time": "2023-01-06T07:26:33.491067Z",
     "start_time": "2023-01-06T07:26:33.417183Z"
    }
   },
   "outputs": [
    {
     "data": {
      "text/html": [
       "<div>\n",
       "<style scoped>\n",
       "    .dataframe tbody tr th:only-of-type {\n",
       "        vertical-align: middle;\n",
       "    }\n",
       "\n",
       "    .dataframe tbody tr th {\n",
       "        vertical-align: top;\n",
       "    }\n",
       "\n",
       "    .dataframe thead th {\n",
       "        text-align: right;\n",
       "    }\n",
       "</style>\n",
       "<table border=\"1\" class=\"dataframe\">\n",
       "  <thead>\n",
       "    <tr style=\"text-align: right;\">\n",
       "      <th></th>\n",
       "      <th>상가업소번호</th>\n",
       "      <th>상호명</th>\n",
       "      <th>지점명</th>\n",
       "      <th>상권업종대분류코드</th>\n",
       "      <th>상권업종대분류명</th>\n",
       "      <th>상권업종중분류코드</th>\n",
       "      <th>상권업종중분류명</th>\n",
       "      <th>상권업종소분류코드</th>\n",
       "      <th>상권업종소분류명</th>\n",
       "      <th>표준산업분류코드</th>\n",
       "      <th>...</th>\n",
       "      <th>건물관리번호</th>\n",
       "      <th>건물명</th>\n",
       "      <th>도로명주소</th>\n",
       "      <th>구우편번호</th>\n",
       "      <th>신우편번호</th>\n",
       "      <th>동정보</th>\n",
       "      <th>층정보</th>\n",
       "      <th>호정보</th>\n",
       "      <th>경도</th>\n",
       "      <th>위도</th>\n",
       "    </tr>\n",
       "  </thead>\n",
       "  <tbody>\n",
       "    <tr>\n",
       "      <th>91330</th>\n",
       "      <td>16196725</td>\n",
       "      <td>온누리약국</td>\n",
       "      <td>베스트</td>\n",
       "      <td>S</td>\n",
       "      <td>의료</td>\n",
       "      <td>S02</td>\n",
       "      <td>약국/한약방</td>\n",
       "      <td>S02A01</td>\n",
       "      <td>약국</td>\n",
       "      <td>G47811</td>\n",
       "      <td>...</td>\n",
       "      <td>3.020000e+24</td>\n",
       "      <td>NaN</td>\n",
       "      <td>대전광역시 서구 문예로 67</td>\n",
       "      <td>302831.0</td>\n",
       "      <td>35240.0</td>\n",
       "      <td>NaN</td>\n",
       "      <td>NaN</td>\n",
       "      <td>NaN</td>\n",
       "      <td>127.389865</td>\n",
       "      <td>36.352728</td>\n",
       "    </tr>\n",
       "    <tr>\n",
       "      <th>91331</th>\n",
       "      <td>16192180</td>\n",
       "      <td>리원</td>\n",
       "      <td>봄산후조</td>\n",
       "      <td>S</td>\n",
       "      <td>의료</td>\n",
       "      <td>S07</td>\n",
       "      <td>의료관련서비스업</td>\n",
       "      <td>S07A07</td>\n",
       "      <td>산후조리원</td>\n",
       "      <td>S96993</td>\n",
       "      <td>...</td>\n",
       "      <td>4.130000e+24</td>\n",
       "      <td>청한프라자</td>\n",
       "      <td>경기도 고양시 덕양구 성신로 14</td>\n",
       "      <td>412827.0</td>\n",
       "      <td>10503.0</td>\n",
       "      <td>NaN</td>\n",
       "      <td>NaN</td>\n",
       "      <td>NaN</td>\n",
       "      <td>126.830144</td>\n",
       "      <td>37.627530</td>\n",
       "    </tr>\n",
       "    <tr>\n",
       "      <th>91332</th>\n",
       "      <td>16127538</td>\n",
       "      <td>참좋은요양병원</td>\n",
       "      <td>NaN</td>\n",
       "      <td>S</td>\n",
       "      <td>의료</td>\n",
       "      <td>S01</td>\n",
       "      <td>병원</td>\n",
       "      <td>S01B17</td>\n",
       "      <td>노인/치매병원</td>\n",
       "      <td>Q86102</td>\n",
       "      <td>...</td>\n",
       "      <td>2.640000e+24</td>\n",
       "      <td>한신시티빌</td>\n",
       "      <td>부산광역시 금정구 금강로 209</td>\n",
       "      <td>609841.0</td>\n",
       "      <td>46294.0</td>\n",
       "      <td>NaN</td>\n",
       "      <td>2.0</td>\n",
       "      <td>NaN</td>\n",
       "      <td>129.082790</td>\n",
       "      <td>35.227138</td>\n",
       "    </tr>\n",
       "    <tr>\n",
       "      <th>91333</th>\n",
       "      <td>16108681</td>\n",
       "      <td>경희중앙한의원</td>\n",
       "      <td>NaN</td>\n",
       "      <td>S</td>\n",
       "      <td>의료</td>\n",
       "      <td>S01</td>\n",
       "      <td>병원</td>\n",
       "      <td>S01B06</td>\n",
       "      <td>한의원</td>\n",
       "      <td>Q86203</td>\n",
       "      <td>...</td>\n",
       "      <td>1.170000e+24</td>\n",
       "      <td>NaN</td>\n",
       "      <td>서울특별시 강동구 천중로 213</td>\n",
       "      <td>134811.0</td>\n",
       "      <td>5303.0</td>\n",
       "      <td>NaN</td>\n",
       "      <td>NaN</td>\n",
       "      <td>NaN</td>\n",
       "      <td>127.143958</td>\n",
       "      <td>37.540993</td>\n",
       "    </tr>\n",
       "    <tr>\n",
       "      <th>91334</th>\n",
       "      <td>16109073</td>\n",
       "      <td>천안김안과천안역본점의원</td>\n",
       "      <td>NaN</td>\n",
       "      <td>S</td>\n",
       "      <td>의료</td>\n",
       "      <td>S01</td>\n",
       "      <td>병원</td>\n",
       "      <td>S01B13</td>\n",
       "      <td>안과의원</td>\n",
       "      <td>Q86201</td>\n",
       "      <td>...</td>\n",
       "      <td>4.410000e+24</td>\n",
       "      <td>김안과</td>\n",
       "      <td>충청남도 천안시 동남구 중앙로 92</td>\n",
       "      <td>330952.0</td>\n",
       "      <td>31127.0</td>\n",
       "      <td>NaN</td>\n",
       "      <td>NaN</td>\n",
       "      <td>NaN</td>\n",
       "      <td>127.152651</td>\n",
       "      <td>36.806640</td>\n",
       "    </tr>\n",
       "  </tbody>\n",
       "</table>\n",
       "<p>5 rows × 39 columns</p>\n",
       "</div>"
      ],
      "text/plain": [
       "         상가업소번호           상호명   지점명 상권업종대분류코드 상권업종대분류명 상권업종중분류코드  상권업종중분류명  \\\n",
       "91330  16196725         온누리약국   베스트         S       의료       S02    약국/한약방   \n",
       "91331  16192180            리원  봄산후조         S       의료       S07  의료관련서비스업   \n",
       "91332  16127538       참좋은요양병원   NaN         S       의료       S01        병원   \n",
       "91333  16108681       경희중앙한의원   NaN         S       의료       S01        병원   \n",
       "91334  16109073  천안김안과천안역본점의원   NaN         S       의료       S01        병원   \n",
       "\n",
       "      상권업종소분류코드 상권업종소분류명 표준산업분류코드  ...        건물관리번호    건물명  \\\n",
       "91330    S02A01       약국   G47811  ...  3.020000e+24    NaN   \n",
       "91331    S07A07    산후조리원   S96993  ...  4.130000e+24  청한프라자   \n",
       "91332    S01B17  노인/치매병원   Q86102  ...  2.640000e+24  한신시티빌   \n",
       "91333    S01B06      한의원   Q86203  ...  1.170000e+24    NaN   \n",
       "91334    S01B13     안과의원   Q86201  ...  4.410000e+24    김안과   \n",
       "\n",
       "                     도로명주소     구우편번호    신우편번호  동정보  층정보  호정보          경도  \\\n",
       "91330      대전광역시 서구 문예로 67  302831.0  35240.0  NaN  NaN  NaN  127.389865   \n",
       "91331   경기도 고양시 덕양구 성신로 14  412827.0  10503.0  NaN  NaN  NaN  126.830144   \n",
       "91332    부산광역시 금정구 금강로 209  609841.0  46294.0  NaN  2.0  NaN  129.082790   \n",
       "91333    서울특별시 강동구 천중로 213  134811.0   5303.0  NaN  NaN  NaN  127.143958   \n",
       "91334  충청남도 천안시 동남구 중앙로 92  330952.0  31127.0  NaN  NaN  NaN  127.152651   \n",
       "\n",
       "              위도  \n",
       "91330  36.352728  \n",
       "91331  37.627530  \n",
       "91332  35.227138  \n",
       "91333  37.540993  \n",
       "91334  36.806640  \n",
       "\n",
       "[5 rows x 39 columns]"
      ]
     },
     "execution_count": 5,
     "metadata": {},
     "output_type": "execute_result"
    }
   ],
   "source": [
    "df.tail()"
   ]
  },
  {
   "cell_type": "code",
   "execution_count": 6,
   "id": "e108a8a9",
   "metadata": {
    "ExecuteTime": {
     "end_time": "2023-01-06T07:26:33.678865Z",
     "start_time": "2023-01-06T07:26:33.494060Z"
    }
   },
   "outputs": [
    {
     "name": "stdout",
     "output_type": "stream",
     "text": [
      "<class 'pandas.core.frame.DataFrame'>\n",
      "RangeIndex: 91335 entries, 0 to 91334\n",
      "Data columns (total 39 columns):\n",
      " #   Column     Non-Null Count  Dtype  \n",
      "---  ------     --------------  -----  \n",
      " 0   상가업소번호     91335 non-null  int64  \n",
      " 1   상호명        91335 non-null  object \n",
      " 2   지점명        1346 non-null   object \n",
      " 3   상권업종대분류코드  91335 non-null  object \n",
      " 4   상권업종대분류명   91335 non-null  object \n",
      " 5   상권업종중분류코드  91335 non-null  object \n",
      " 6   상권업종중분류명   91335 non-null  object \n",
      " 7   상권업종소분류코드  91335 non-null  object \n",
      " 8   상권업종소분류명   91335 non-null  object \n",
      " 9   표준산업분류코드   86413 non-null  object \n",
      " 10  표준산업분류명    86413 non-null  object \n",
      " 11  시도코드       90956 non-null  float64\n",
      " 12  시도명        90956 non-null  object \n",
      " 13  시군구코드      90956 non-null  float64\n",
      " 14  시군구명       90956 non-null  object \n",
      " 15  행정동코드      91335 non-null  int64  \n",
      " 16  행정동명       90956 non-null  object \n",
      " 17  법정동코드      91280 non-null  float64\n",
      " 18  법정동명       91280 non-null  object \n",
      " 19  지번코드       91335 non-null  float64\n",
      " 20  대지구분코드     91335 non-null  int64  \n",
      " 21  대지구분명      91335 non-null  object \n",
      " 22  지번본번지      91335 non-null  int64  \n",
      " 23  지번부번지      72079 non-null  float64\n",
      " 24  지번주소       91335 non-null  object \n",
      " 25  도로명코드      91335 non-null  float64\n",
      " 26  도로명        91335 non-null  object \n",
      " 27  건물본번지      91335 non-null  int64  \n",
      " 28  건물부번지      10604 non-null  float64\n",
      " 29  건물관리번호     91335 non-null  float64\n",
      " 30  건물명        46453 non-null  object \n",
      " 31  도로명주소      91335 non-null  object \n",
      " 32  구우편번호      91323 non-null  float64\n",
      " 33  신우편번호      91333 non-null  float64\n",
      " 34  동정보        7406 non-null   object \n",
      " 35  층정보        43989 non-null  float64\n",
      " 36  호정보        15437 non-null  float64\n",
      " 37  경도         91335 non-null  float64\n",
      " 38  위도         91335 non-null  float64\n",
      "dtypes: float64(14), int64(5), object(20)\n",
      "memory usage: 27.2+ MB\n"
     ]
    }
   ],
   "source": [
    "df.info()"
   ]
  },
  {
   "cell_type": "code",
   "execution_count": 7,
   "id": "f12041bf",
   "metadata": {
    "ExecuteTime": {
     "end_time": "2023-01-06T07:26:33.694524Z",
     "start_time": "2023-01-06T07:26:33.682855Z"
    }
   },
   "outputs": [
    {
     "data": {
      "text/plain": [
       "Index(['상가업소번호', '상호명', '지점명', '상권업종대분류코드', '상권업종대분류명', '상권업종중분류코드',\n",
       "       '상권업종중분류명', '상권업종소분류코드', '상권업종소분류명', '표준산업분류코드', '표준산업분류명', '시도코드',\n",
       "       '시도명', '시군구코드', '시군구명', '행정동코드', '행정동명', '법정동코드', '법정동명', '지번코드',\n",
       "       '대지구분코드', '대지구분명', '지번본번지', '지번부번지', '지번주소', '도로명코드', '도로명', '건물본번지',\n",
       "       '건물부번지', '건물관리번호', '건물명', '도로명주소', '구우편번호', '신우편번호', '동정보', '층정보',\n",
       "       '호정보', '경도', '위도'],\n",
       "      dtype='object')"
      ]
     },
     "execution_count": 7,
     "metadata": {},
     "output_type": "execute_result"
    }
   ],
   "source": [
    "df.columns"
   ]
  },
  {
   "cell_type": "code",
   "execution_count": 8,
   "id": "6c39e773",
   "metadata": {
    "ExecuteTime": {
     "end_time": "2023-01-06T07:26:33.725445Z",
     "start_time": "2023-01-06T07:26:33.698514Z"
    }
   },
   "outputs": [
    {
     "data": {
      "text/plain": [
       "상가업소번호         int64\n",
       "상호명           object\n",
       "지점명           object\n",
       "상권업종대분류코드     object\n",
       "상권업종대분류명      object\n",
       "상권업종중분류코드     object\n",
       "상권업종중분류명      object\n",
       "상권업종소분류코드     object\n",
       "상권업종소분류명      object\n",
       "표준산업분류코드      object\n",
       "표준산업분류명       object\n",
       "시도코드         float64\n",
       "시도명           object\n",
       "시군구코드        float64\n",
       "시군구명          object\n",
       "행정동코드          int64\n",
       "행정동명          object\n",
       "법정동코드        float64\n",
       "법정동명          object\n",
       "지번코드         float64\n",
       "대지구분코드         int64\n",
       "대지구분명         object\n",
       "지번본번지          int64\n",
       "지번부번지        float64\n",
       "지번주소          object\n",
       "도로명코드        float64\n",
       "도로명           object\n",
       "건물본번지          int64\n",
       "건물부번지        float64\n",
       "건물관리번호       float64\n",
       "건물명           object\n",
       "도로명주소         object\n",
       "구우편번호        float64\n",
       "신우편번호        float64\n",
       "동정보           object\n",
       "층정보          float64\n",
       "호정보          float64\n",
       "경도           float64\n",
       "위도           float64\n",
       "dtype: object"
      ]
     },
     "execution_count": 8,
     "metadata": {},
     "output_type": "execute_result"
    }
   ],
   "source": [
    "df.dtypes"
   ]
  },
  {
   "cell_type": "code",
   "execution_count": 9,
   "id": "249735d4",
   "metadata": {
    "ExecuteTime": {
     "end_time": "2023-01-06T07:26:33.928314Z",
     "start_time": "2023-01-06T07:26:33.730433Z"
    }
   },
   "outputs": [],
   "source": [
    "\n",
    "\n",
    "#결측치를 처리해보자\n",
    "null_count = df.isnull().sum()"
   ]
  },
  {
   "cell_type": "code",
   "execution_count": 10,
   "id": "9c464ff9",
   "metadata": {
    "ExecuteTime": {
     "end_time": "2023-01-06T07:26:33.959324Z",
     "start_time": "2023-01-06T07:26:33.935295Z"
    }
   },
   "outputs": [
    {
     "data": {
      "text/plain": [
       "상가업소번호           0\n",
       "상호명              0\n",
       "지점명          89989\n",
       "상권업종대분류코드        0\n",
       "상권업종대분류명         0\n",
       "상권업종중분류코드        0\n",
       "상권업종중분류명         0\n",
       "상권업종소분류코드        0\n",
       "상권업종소분류명         0\n",
       "표준산업분류코드      4922\n",
       "표준산업분류명       4922\n",
       "시도코드           379\n",
       "시도명            379\n",
       "시군구코드          379\n",
       "시군구명           379\n",
       "행정동코드            0\n",
       "행정동명           379\n",
       "법정동코드           55\n",
       "법정동명            55\n",
       "지번코드             0\n",
       "대지구분코드           0\n",
       "대지구분명            0\n",
       "지번본번지            0\n",
       "지번부번지        19256\n",
       "지번주소             0\n",
       "도로명코드            0\n",
       "도로명              0\n",
       "건물본번지            0\n",
       "건물부번지        80731\n",
       "건물관리번호           0\n",
       "건물명          44882\n",
       "도로명주소            0\n",
       "구우편번호           12\n",
       "신우편번호            2\n",
       "동정보          83929\n",
       "층정보          47346\n",
       "호정보          75898\n",
       "경도               0\n",
       "위도               0\n",
       "dtype: int64"
      ]
     },
     "execution_count": 10,
     "metadata": {},
     "output_type": "execute_result"
    }
   ],
   "source": [
    "null_count"
   ]
  },
  {
   "cell_type": "code",
   "execution_count": 11,
   "id": "799f2791",
   "metadata": {
    "ExecuteTime": {
     "end_time": "2023-01-06T07:26:34.961645Z",
     "start_time": "2023-01-06T07:26:33.963184Z"
    }
   },
   "outputs": [
    {
     "data": {
      "text/plain": [
       "<AxesSubplot:>"
      ]
     },
     "execution_count": 11,
     "metadata": {},
     "output_type": "execute_result"
    },
    {
     "data": {
      "image/png": "[encoded data removed]",
      "text/plain": [
       "<Figure size 360x504 with 1 Axes>"
      ]
     },
     "metadata": {
      "needs_background": "light"
     },
     "output_type": "display_data"
    }
   ],
   "source": [
    "null_count.plot.barh(figsize=(5,7)) "
   ]
  },
  {
   "cell_type": "code",
   "execution_count": 12,
   "id": "bbb4b363",
   "metadata": {
    "ExecuteTime": {
     "end_time": "2023-01-06T07:26:34.992454Z",
     "start_time": "2023-01-06T07:26:34.964512Z"
    }
   },
   "outputs": [
    {
     "data": {
      "text/html": [
       "<div>\n",
       "<style scoped>\n",
       "    .dataframe tbody tr th:only-of-type {\n",
       "        vertical-align: middle;\n",
       "    }\n",
       "\n",
       "    .dataframe tbody tr th {\n",
       "        vertical-align: top;\n",
       "    }\n",
       "\n",
       "    .dataframe thead th {\n",
       "        text-align: right;\n",
       "    }\n",
       "</style>\n",
       "<table border=\"1\" class=\"dataframe\">\n",
       "  <thead>\n",
       "    <tr style=\"text-align: right;\">\n",
       "      <th></th>\n",
       "      <th>index</th>\n",
       "      <th>0</th>\n",
       "    </tr>\n",
       "  </thead>\n",
       "  <tbody>\n",
       "    <tr>\n",
       "      <th>0</th>\n",
       "      <td>상가업소번호</td>\n",
       "      <td>0</td>\n",
       "    </tr>\n",
       "    <tr>\n",
       "      <th>1</th>\n",
       "      <td>상호명</td>\n",
       "      <td>0</td>\n",
       "    </tr>\n",
       "    <tr>\n",
       "      <th>2</th>\n",
       "      <td>지점명</td>\n",
       "      <td>89989</td>\n",
       "    </tr>\n",
       "    <tr>\n",
       "      <th>3</th>\n",
       "      <td>상권업종대분류코드</td>\n",
       "      <td>0</td>\n",
       "    </tr>\n",
       "    <tr>\n",
       "      <th>4</th>\n",
       "      <td>상권업종대분류명</td>\n",
       "      <td>0</td>\n",
       "    </tr>\n",
       "  </tbody>\n",
       "</table>\n",
       "</div>"
      ],
      "text/plain": [
       "       index      0\n",
       "0     상가업소번호      0\n",
       "1        상호명      0\n",
       "2        지점명  89989\n",
       "3  상권업종대분류코드      0\n",
       "4   상권업종대분류명      0"
      ]
     },
     "execution_count": 12,
     "metadata": {},
     "output_type": "execute_result"
    }
   ],
   "source": [
    "#reset_index를 하면 데이터프레임 형태로 변경이 됨\n",
    "df_null_count = null_count.reset_index()\n",
    "df_null_count.head()"
   ]
  },
  {
   "cell_type": "code",
   "execution_count": 13,
   "id": "359b8576",
   "metadata": {
    "ExecuteTime": {
     "end_time": "2023-01-06T07:26:35.007492Z",
     "start_time": "2023-01-06T07:26:34.994495Z"
    }
   },
   "outputs": [
    {
     "data": {
      "text/html": [
       "<div>\n",
       "<style scoped>\n",
       "    .dataframe tbody tr th:only-of-type {\n",
       "        vertical-align: middle;\n",
       "    }\n",
       "\n",
       "    .dataframe tbody tr th {\n",
       "        vertical-align: top;\n",
       "    }\n",
       "\n",
       "    .dataframe thead th {\n",
       "        text-align: right;\n",
       "    }\n",
       "</style>\n",
       "<table border=\"1\" class=\"dataframe\">\n",
       "  <thead>\n",
       "    <tr style=\"text-align: right;\">\n",
       "      <th></th>\n",
       "      <th>컬럼명</th>\n",
       "      <th>결측치수</th>\n",
       "    </tr>\n",
       "  </thead>\n",
       "  <tbody>\n",
       "    <tr>\n",
       "      <th>0</th>\n",
       "      <td>상가업소번호</td>\n",
       "      <td>0</td>\n",
       "    </tr>\n",
       "    <tr>\n",
       "      <th>1</th>\n",
       "      <td>상호명</td>\n",
       "      <td>0</td>\n",
       "    </tr>\n",
       "    <tr>\n",
       "      <th>2</th>\n",
       "      <td>지점명</td>\n",
       "      <td>89989</td>\n",
       "    </tr>\n",
       "    <tr>\n",
       "      <th>3</th>\n",
       "      <td>상권업종대분류코드</td>\n",
       "      <td>0</td>\n",
       "    </tr>\n",
       "    <tr>\n",
       "      <th>4</th>\n",
       "      <td>상권업종대분류명</td>\n",
       "      <td>0</td>\n",
       "    </tr>\n",
       "  </tbody>\n",
       "</table>\n",
       "</div>"
      ],
      "text/plain": [
       "         컬럼명   결측치수\n",
       "0     상가업소번호      0\n",
       "1        상호명      0\n",
       "2        지점명  89989\n",
       "3  상권업종대분류코드      0\n",
       "4   상권업종대분류명      0"
      ]
     },
     "execution_count": 13,
     "metadata": {},
     "output_type": "execute_result"
    }
   ],
   "source": [
    "\n",
    "\n",
    "\n",
    "df_null_count.columns = ['컬럼명','결측치수']\n",
    "df_null_count.head()"
   ]
  },
  {
   "cell_type": "code",
   "execution_count": 14,
   "id": "7bd31cf9",
   "metadata": {
    "ExecuteTime": {
     "end_time": "2023-01-06T07:26:35.022455Z",
     "start_time": "2023-01-06T07:26:35.009455Z"
    }
   },
   "outputs": [],
   "source": [
    "df_null_count_top = df_null_count.sort_values(by='결측치수',ascending =False).head(10)"
   ]
  },
  {
   "cell_type": "code",
   "execution_count": 15,
   "id": "8c4e9016",
   "metadata": {
    "ExecuteTime": {
     "end_time": "2023-01-06T07:26:35.038341Z",
     "start_time": "2023-01-06T07:26:35.024413Z"
    }
   },
   "outputs": [
    {
     "data": {
      "text/plain": [
       "0         NaN\n",
       "1         NaN\n",
       "2         NaN\n",
       "3         NaN\n",
       "4         수지점\n",
       "         ... \n",
       "91330     베스트\n",
       "91331    봄산후조\n",
       "91332     NaN\n",
       "91333     NaN\n",
       "91334     NaN\n",
       "Name: 지점명, Length: 91335, dtype: object"
      ]
     },
     "execution_count": 15,
     "metadata": {},
     "output_type": "execute_result"
    }
   ],
   "source": [
    "df['지점명']"
   ]
  },
  {
   "cell_type": "code",
   "execution_count": 16,
   "id": "bba312cd",
   "metadata": {
    "ExecuteTime": {
     "end_time": "2023-01-06T07:26:35.053654Z",
     "start_time": "2023-01-06T07:26:35.041369Z"
    }
   },
   "outputs": [
    {
     "data": {
      "text/plain": [
       "['지점명',\n",
       " '동정보',\n",
       " '건물부번지',\n",
       " '호정보',\n",
       " '층정보',\n",
       " '건물명',\n",
       " '지번부번지',\n",
       " '표준산업분류코드',\n",
       " '표준산업분류명',\n",
       " '시도코드']"
      ]
     },
     "execution_count": 16,
     "metadata": {},
     "output_type": "execute_result"
    }
   ],
   "source": [
    "drop_columns = df_null_count_top['컬럼명'].tolist()\n",
    "drop_columns"
   ]
  },
  {
   "cell_type": "code",
   "execution_count": 17,
   "id": "247f2201",
   "metadata": {
    "ExecuteTime": {
     "end_time": "2023-01-06T07:26:35.084392Z",
     "start_time": "2023-01-06T07:26:35.056330Z"
    }
   },
   "outputs": [
    {
     "data": {
      "text/html": [
       "<div>\n",
       "<style scoped>\n",
       "    .dataframe tbody tr th:only-of-type {\n",
       "        vertical-align: middle;\n",
       "    }\n",
       "\n",
       "    .dataframe tbody tr th {\n",
       "        vertical-align: top;\n",
       "    }\n",
       "\n",
       "    .dataframe thead th {\n",
       "        text-align: right;\n",
       "    }\n",
       "</style>\n",
       "<table border=\"1\" class=\"dataframe\">\n",
       "  <thead>\n",
       "    <tr style=\"text-align: right;\">\n",
       "      <th></th>\n",
       "      <th>지점명</th>\n",
       "      <th>동정보</th>\n",
       "      <th>건물부번지</th>\n",
       "      <th>호정보</th>\n",
       "      <th>층정보</th>\n",
       "      <th>건물명</th>\n",
       "      <th>지번부번지</th>\n",
       "      <th>표준산업분류코드</th>\n",
       "      <th>표준산업분류명</th>\n",
       "      <th>시도코드</th>\n",
       "    </tr>\n",
       "  </thead>\n",
       "  <tbody>\n",
       "    <tr>\n",
       "      <th>0</th>\n",
       "      <td>NaN</td>\n",
       "      <td>NaN</td>\n",
       "      <td>NaN</td>\n",
       "      <td>NaN</td>\n",
       "      <td>NaN</td>\n",
       "      <td>산호한양아파트</td>\n",
       "      <td>NaN</td>\n",
       "      <td>Q86201</td>\n",
       "      <td>일반 의원</td>\n",
       "      <td>41.0</td>\n",
       "    </tr>\n",
       "    <tr>\n",
       "      <th>1</th>\n",
       "      <td>NaN</td>\n",
       "      <td>NaN</td>\n",
       "      <td>NaN</td>\n",
       "      <td>NaN</td>\n",
       "      <td>4.0</td>\n",
       "      <td>NaN</td>\n",
       "      <td>14.0</td>\n",
       "      <td>Q86201</td>\n",
       "      <td>일반 의원</td>\n",
       "      <td>11.0</td>\n",
       "    </tr>\n",
       "    <tr>\n",
       "      <th>2</th>\n",
       "      <td>NaN</td>\n",
       "      <td>NaN</td>\n",
       "      <td>NaN</td>\n",
       "      <td>NaN</td>\n",
       "      <td>NaN</td>\n",
       "      <td>한라프라자</td>\n",
       "      <td>1.0</td>\n",
       "      <td>Q86201</td>\n",
       "      <td>일반 의원</td>\n",
       "      <td>41.0</td>\n",
       "    </tr>\n",
       "    <tr>\n",
       "      <th>3</th>\n",
       "      <td>NaN</td>\n",
       "      <td>NaN</td>\n",
       "      <td>NaN</td>\n",
       "      <td>NaN</td>\n",
       "      <td>5.0</td>\n",
       "      <td>NaN</td>\n",
       "      <td>1.0</td>\n",
       "      <td>NaN</td>\n",
       "      <td>NaN</td>\n",
       "      <td>26.0</td>\n",
       "    </tr>\n",
       "    <tr>\n",
       "      <th>4</th>\n",
       "      <td>수지점</td>\n",
       "      <td>NaN</td>\n",
       "      <td>NaN</td>\n",
       "      <td>NaN</td>\n",
       "      <td>1.0</td>\n",
       "      <td>NaN</td>\n",
       "      <td>2.0</td>\n",
       "      <td>G47811</td>\n",
       "      <td>의약품 및 의료용품 소매업</td>\n",
       "      <td>41.0</td>\n",
       "    </tr>\n",
       "  </tbody>\n",
       "</table>\n",
       "</div>"
      ],
      "text/plain": [
       "   지점명  동정보  건물부번지  호정보  층정보      건물명  지번부번지 표준산업분류코드         표준산업분류명  시도코드\n",
       "0  NaN  NaN    NaN  NaN  NaN  산호한양아파트    NaN   Q86201           일반 의원  41.0\n",
       "1  NaN  NaN    NaN  NaN  4.0      NaN   14.0   Q86201           일반 의원  11.0\n",
       "2  NaN  NaN    NaN  NaN  NaN    한라프라자    1.0   Q86201           일반 의원  41.0\n",
       "3  NaN  NaN    NaN  NaN  5.0      NaN    1.0      NaN             NaN  26.0\n",
       "4  수지점  NaN    NaN  NaN  1.0      NaN    2.0   G47811  의약품 및 의료용품 소매업  41.0"
      ]
     },
     "execution_count": 17,
     "metadata": {},
     "output_type": "execute_result"
    }
   ],
   "source": [
    "df[drop_columns].head()"
   ]
  },
  {
   "cell_type": "code",
   "execution_count": 18,
   "id": "38eeaf50",
   "metadata": {
    "ExecuteTime": {
     "end_time": "2023-01-06T07:26:35.099604Z",
     "start_time": "2023-01-06T07:26:35.086250Z"
    }
   },
   "outputs": [
    {
     "data": {
      "text/plain": [
       "(91335, 39)"
      ]
     },
     "execution_count": 18,
     "metadata": {},
     "output_type": "execute_result"
    }
   ],
   "source": [
    "#df = df.drop(drop_columns, axis=1)\n",
    "df.shape"
   ]
  },
  {
   "cell_type": "code",
   "execution_count": 19,
   "id": "a0b7305b",
   "metadata": {
    "ExecuteTime": {
     "end_time": "2023-01-06T07:26:35.208467Z",
     "start_time": "2023-01-06T07:26:35.101498Z"
    }
   },
   "outputs": [
    {
     "name": "stdout",
     "output_type": "stream",
     "text": [
      "<class 'pandas.core.frame.DataFrame'>\n",
      "RangeIndex: 91335 entries, 0 to 91334\n",
      "Data columns (total 39 columns):\n",
      " #   Column     Non-Null Count  Dtype  \n",
      "---  ------     --------------  -----  \n",
      " 0   상가업소번호     91335 non-null  int64  \n",
      " 1   상호명        91335 non-null  object \n",
      " 2   지점명        1346 non-null   object \n",
      " 3   상권업종대분류코드  91335 non-null  object \n",
      " 4   상권업종대분류명   91335 non-null  object \n",
      " 5   상권업종중분류코드  91335 non-null  object \n",
      " 6   상권업종중분류명   91335 non-null  object \n",
      " 7   상권업종소분류코드  91335 non-null  object \n",
      " 8   상권업종소분류명   91335 non-null  object \n",
      " 9   표준산업분류코드   86413 non-null  object \n",
      " 10  표준산업분류명    86413 non-null  object \n",
      " 11  시도코드       90956 non-null  float64\n",
      " 12  시도명        90956 non-null  object \n",
      " 13  시군구코드      90956 non-null  float64\n",
      " 14  시군구명       90956 non-null  object \n",
      " 15  행정동코드      91335 non-null  int64  \n",
      " 16  행정동명       90956 non-null  object \n",
      " 17  법정동코드      91280 non-null  float64\n",
      " 18  법정동명       91280 non-null  object \n",
      " 19  지번코드       91335 non-null  float64\n",
      " 20  대지구분코드     91335 non-null  int64  \n",
      " 21  대지구분명      91335 non-null  object \n",
      " 22  지번본번지      91335 non-null  int64  \n",
      " 23  지번부번지      72079 non-null  float64\n",
      " 24  지번주소       91335 non-null  object \n",
      " 25  도로명코드      91335 non-null  float64\n",
      " 26  도로명        91335 non-null  object \n",
      " 27  건물본번지      91335 non-null  int64  \n",
      " 28  건물부번지      10604 non-null  float64\n",
      " 29  건물관리번호     91335 non-null  float64\n",
      " 30  건물명        46453 non-null  object \n",
      " 31  도로명주소      91335 non-null  object \n",
      " 32  구우편번호      91323 non-null  float64\n",
      " 33  신우편번호      91333 non-null  float64\n",
      " 34  동정보        7406 non-null   object \n",
      " 35  층정보        43989 non-null  float64\n",
      " 36  호정보        15437 non-null  float64\n",
      " 37  경도         91335 non-null  float64\n",
      " 38  위도         91335 non-null  float64\n",
      "dtypes: float64(14), int64(5), object(20)\n",
      "memory usage: 27.2+ MB\n"
     ]
    }
   ],
   "source": [
    "df.info()"
   ]
  },
  {
   "cell_type": "code",
   "execution_count": 20,
   "id": "c88cca08",
   "metadata": {
    "ExecuteTime": {
     "end_time": "2023-01-06T07:26:35.223519Z",
     "start_time": "2023-01-06T07:26:35.210457Z"
    },
    "scrolled": true
   },
   "outputs": [
    {
     "data": {
      "text/plain": [
       "36.62471119236107"
      ]
     },
     "execution_count": 20,
     "metadata": {},
     "output_type": "execute_result"
    }
   ],
   "source": [
    "#평균값\n",
    "df['위도'].mean()"
   ]
  },
  {
   "cell_type": "code",
   "execution_count": 21,
   "id": "2ef32a03",
   "metadata": {
    "ExecuteTime": {
     "end_time": "2023-01-06T07:26:35.239408Z",
     "start_time": "2023-01-06T07:26:35.225387Z"
    }
   },
   "outputs": [
    {
     "data": {
      "text/plain": [
       "37.23465232"
      ]
     },
     "execution_count": 21,
     "metadata": {},
     "output_type": "execute_result"
    }
   ],
   "source": [
    "df['위도'].median()"
   ]
  },
  {
   "cell_type": "code",
   "execution_count": 22,
   "id": "7eb50135",
   "metadata": {
    "ExecuteTime": {
     "end_time": "2023-01-06T07:26:35.254409Z",
     "start_time": "2023-01-06T07:26:35.241343Z"
    }
   },
   "outputs": [
    {
     "data": {
      "text/plain": [
       "38.49965857"
      ]
     },
     "execution_count": 22,
     "metadata": {},
     "output_type": "execute_result"
    }
   ],
   "source": [
    "df['위도'].max()"
   ]
  },
  {
   "cell_type": "code",
   "execution_count": 23,
   "id": "ada245b2",
   "metadata": {
    "ExecuteTime": {
     "end_time": "2023-01-06T07:26:35.270264Z",
     "start_time": "2023-01-06T07:26:35.256303Z"
    }
   },
   "outputs": [
    {
     "data": {
      "text/plain": [
       "33.21928967"
      ]
     },
     "execution_count": 23,
     "metadata": {},
     "output_type": "execute_result"
    }
   ],
   "source": [
    "df['위도'].min()"
   ]
  },
  {
   "cell_type": "code",
   "execution_count": 24,
   "id": "587b6d98",
   "metadata": {
    "ExecuteTime": {
     "end_time": "2023-01-06T07:26:35.286223Z",
     "start_time": "2023-01-06T07:26:35.272296Z"
    }
   },
   "outputs": [
    {
     "data": {
      "text/plain": [
       "91335"
      ]
     },
     "execution_count": 24,
     "metadata": {},
     "output_type": "execute_result"
    }
   ],
   "source": [
    "df['위도'].count()"
   ]
  },
  {
   "cell_type": "code",
   "execution_count": 25,
   "id": "20409944",
   "metadata": {
    "ExecuteTime": {
     "end_time": "2023-01-06T07:26:35.317400Z",
     "start_time": "2023-01-06T07:26:35.289250Z"
    }
   },
   "outputs": [
    {
     "data": {
      "text/plain": [
       "count    91335.000000\n",
       "mean        36.624711\n",
       "std          1.041361\n",
       "min         33.219290\n",
       "25%         35.811830\n",
       "50%         37.234652\n",
       "75%         37.507463\n",
       "max         38.499659\n",
       "Name: 위도, dtype: float64"
      ]
     },
     "execution_count": 25,
     "metadata": {},
     "output_type": "execute_result"
    }
   ],
   "source": [
    "df['위도'].describe()"
   ]
  },
  {
   "cell_type": "code",
   "execution_count": 26,
   "id": "661416e4",
   "metadata": {
    "ExecuteTime": {
     "end_time": "2023-01-06T07:26:35.348224Z",
     "start_time": "2023-01-06T07:26:35.320307Z"
    }
   },
   "outputs": [
    {
     "data": {
      "text/html": [
       "<div>\n",
       "<style scoped>\n",
       "    .dataframe tbody tr th:only-of-type {\n",
       "        vertical-align: middle;\n",
       "    }\n",
       "\n",
       "    .dataframe tbody tr th {\n",
       "        vertical-align: top;\n",
       "    }\n",
       "\n",
       "    .dataframe thead th {\n",
       "        text-align: right;\n",
       "    }\n",
       "</style>\n",
       "<table border=\"1\" class=\"dataframe\">\n",
       "  <thead>\n",
       "    <tr style=\"text-align: right;\">\n",
       "      <th></th>\n",
       "      <th>위도</th>\n",
       "      <th>경도</th>\n",
       "    </tr>\n",
       "  </thead>\n",
       "  <tbody>\n",
       "    <tr>\n",
       "      <th>count</th>\n",
       "      <td>91335.000000</td>\n",
       "      <td>91335.000000</td>\n",
       "    </tr>\n",
       "    <tr>\n",
       "      <th>mean</th>\n",
       "      <td>36.624711</td>\n",
       "      <td>127.487524</td>\n",
       "    </tr>\n",
       "    <tr>\n",
       "      <th>std</th>\n",
       "      <td>1.041361</td>\n",
       "      <td>0.842877</td>\n",
       "    </tr>\n",
       "    <tr>\n",
       "      <th>min</th>\n",
       "      <td>33.219290</td>\n",
       "      <td>124.717632</td>\n",
       "    </tr>\n",
       "    <tr>\n",
       "      <th>25%</th>\n",
       "      <td>35.811830</td>\n",
       "      <td>126.914297</td>\n",
       "    </tr>\n",
       "    <tr>\n",
       "      <th>50%</th>\n",
       "      <td>37.234652</td>\n",
       "      <td>127.084551</td>\n",
       "    </tr>\n",
       "    <tr>\n",
       "      <th>75%</th>\n",
       "      <td>37.507463</td>\n",
       "      <td>128.108919</td>\n",
       "    </tr>\n",
       "    <tr>\n",
       "      <th>max</th>\n",
       "      <td>38.499659</td>\n",
       "      <td>130.909912</td>\n",
       "    </tr>\n",
       "  </tbody>\n",
       "</table>\n",
       "</div>"
      ],
      "text/plain": [
       "                 위도            경도\n",
       "count  91335.000000  91335.000000\n",
       "mean      36.624711    127.487524\n",
       "std        1.041361      0.842877\n",
       "min       33.219290    124.717632\n",
       "25%       35.811830    126.914297\n",
       "50%       37.234652    127.084551\n",
       "75%       37.507463    128.108919\n",
       "max       38.499659    130.909912"
      ]
     },
     "execution_count": 26,
     "metadata": {},
     "output_type": "execute_result"
    }
   ],
   "source": [
    "df[['위도','경도']].describe()"
   ]
  },
  {
   "cell_type": "code",
   "execution_count": 27,
   "id": "1c2a5afc",
   "metadata": {
    "ExecuteTime": {
     "end_time": "2023-01-06T07:26:36.069537Z",
     "start_time": "2023-01-06T07:26:35.351217Z"
    }
   },
   "outputs": [
    {
     "data": {
      "text/html": [
       "<div>\n",
       "<style scoped>\n",
       "    .dataframe tbody tr th:only-of-type {\n",
       "        vertical-align: middle;\n",
       "    }\n",
       "\n",
       "    .dataframe tbody tr th {\n",
       "        vertical-align: top;\n",
       "    }\n",
       "\n",
       "    .dataframe thead th {\n",
       "        text-align: right;\n",
       "    }\n",
       "</style>\n",
       "<table border=\"1\" class=\"dataframe\">\n",
       "  <thead>\n",
       "    <tr style=\"text-align: right;\">\n",
       "      <th></th>\n",
       "      <th>상호명</th>\n",
       "      <th>지점명</th>\n",
       "      <th>상권업종대분류코드</th>\n",
       "      <th>상권업종대분류명</th>\n",
       "      <th>상권업종중분류코드</th>\n",
       "      <th>상권업종중분류명</th>\n",
       "      <th>상권업종소분류코드</th>\n",
       "      <th>상권업종소분류명</th>\n",
       "      <th>표준산업분류코드</th>\n",
       "      <th>표준산업분류명</th>\n",
       "      <th>시도명</th>\n",
       "      <th>시군구명</th>\n",
       "      <th>행정동명</th>\n",
       "      <th>법정동명</th>\n",
       "      <th>대지구분명</th>\n",
       "      <th>지번주소</th>\n",
       "      <th>도로명</th>\n",
       "      <th>건물명</th>\n",
       "      <th>도로명주소</th>\n",
       "      <th>동정보</th>\n",
       "    </tr>\n",
       "  </thead>\n",
       "  <tbody>\n",
       "    <tr>\n",
       "      <th>count</th>\n",
       "      <td>91335</td>\n",
       "      <td>1346</td>\n",
       "      <td>91335</td>\n",
       "      <td>91335</td>\n",
       "      <td>91335</td>\n",
       "      <td>91335</td>\n",
       "      <td>91335</td>\n",
       "      <td>91335</td>\n",
       "      <td>86413</td>\n",
       "      <td>86413</td>\n",
       "      <td>90956</td>\n",
       "      <td>90956</td>\n",
       "      <td>90956</td>\n",
       "      <td>91280</td>\n",
       "      <td>91335</td>\n",
       "      <td>91335</td>\n",
       "      <td>91335</td>\n",
       "      <td>46453</td>\n",
       "      <td>91335</td>\n",
       "      <td>7406</td>\n",
       "    </tr>\n",
       "    <tr>\n",
       "      <th>unique</th>\n",
       "      <td>56908</td>\n",
       "      <td>858</td>\n",
       "      <td>1</td>\n",
       "      <td>1</td>\n",
       "      <td>5</td>\n",
       "      <td>5</td>\n",
       "      <td>34</td>\n",
       "      <td>34</td>\n",
       "      <td>15</td>\n",
       "      <td>15</td>\n",
       "      <td>17</td>\n",
       "      <td>228</td>\n",
       "      <td>2791</td>\n",
       "      <td>2822</td>\n",
       "      <td>2</td>\n",
       "      <td>53118</td>\n",
       "      <td>16610</td>\n",
       "      <td>17946</td>\n",
       "      <td>54031</td>\n",
       "      <td>556</td>\n",
       "    </tr>\n",
       "    <tr>\n",
       "      <th>top</th>\n",
       "      <td>리원</td>\n",
       "      <td>장례식장</td>\n",
       "      <td>S</td>\n",
       "      <td>의료</td>\n",
       "      <td>S01</td>\n",
       "      <td>병원</td>\n",
       "      <td>S02A01</td>\n",
       "      <td>약국</td>\n",
       "      <td>Q86201</td>\n",
       "      <td>일반 의원</td>\n",
       "      <td>경기도</td>\n",
       "      <td>서구</td>\n",
       "      <td>중앙동</td>\n",
       "      <td>중동</td>\n",
       "      <td>대지</td>\n",
       "      <td>서울특별시 동대문구 제기동 965-1</td>\n",
       "      <td>서울특별시 강남구 강남대로</td>\n",
       "      <td>현대아파트</td>\n",
       "      <td>서울특별시 동대문구 약령중앙로8길 10</td>\n",
       "      <td>1</td>\n",
       "    </tr>\n",
       "    <tr>\n",
       "      <th>freq</th>\n",
       "      <td>152</td>\n",
       "      <td>97</td>\n",
       "      <td>91335</td>\n",
       "      <td>91335</td>\n",
       "      <td>60774</td>\n",
       "      <td>60774</td>\n",
       "      <td>18964</td>\n",
       "      <td>18964</td>\n",
       "      <td>22555</td>\n",
       "      <td>22555</td>\n",
       "      <td>21374</td>\n",
       "      <td>3165</td>\n",
       "      <td>1856</td>\n",
       "      <td>874</td>\n",
       "      <td>91213</td>\n",
       "      <td>198</td>\n",
       "      <td>326</td>\n",
       "      <td>131</td>\n",
       "      <td>198</td>\n",
       "      <td>1571</td>\n",
       "    </tr>\n",
       "  </tbody>\n",
       "</table>\n",
       "</div>"
      ],
      "text/plain": [
       "          상호명   지점명 상권업종대분류코드 상권업종대분류명 상권업종중분류코드 상권업종중분류명 상권업종소분류코드 상권업종소분류명  \\\n",
       "count   91335  1346     91335    91335     91335    91335     91335    91335   \n",
       "unique  56908   858         1        1         5        5        34       34   \n",
       "top        리원  장례식장         S       의료       S01       병원    S02A01       약국   \n",
       "freq      152    97     91335    91335     60774    60774     18964    18964   \n",
       "\n",
       "       표준산업분류코드 표준산업분류명    시도명   시군구명   행정동명   법정동명  대지구분명  \\\n",
       "count     86413   86413  90956  90956  90956  91280  91335   \n",
       "unique       15      15     17    228   2791   2822      2   \n",
       "top      Q86201   일반 의원    경기도     서구    중앙동     중동     대지   \n",
       "freq      22555   22555  21374   3165   1856    874  91213   \n",
       "\n",
       "                        지번주소             도로명    건물명                  도로명주소  \\\n",
       "count                  91335           91335  46453                  91335   \n",
       "unique                 53118           16610  17946                  54031   \n",
       "top     서울특별시 동대문구 제기동 965-1  서울특별시 강남구 강남대로  현대아파트  서울특별시 동대문구 약령중앙로8길 10   \n",
       "freq                     198             326    131                    198   \n",
       "\n",
       "         동정보  \n",
       "count   7406  \n",
       "unique   556  \n",
       "top        1  \n",
       "freq    1571  "
      ]
     },
     "execution_count": 27,
     "metadata": {},
     "output_type": "execute_result"
    }
   ],
   "source": [
    "df.describe(include='object')"
   ]
  },
  {
   "cell_type": "code",
   "execution_count": 28,
   "id": "8083b551",
   "metadata": {
    "ExecuteTime": {
     "end_time": "2023-01-06T07:26:36.100626Z",
     "start_time": "2023-01-06T07:26:36.080492Z"
    }
   },
   "outputs": [
    {
     "data": {
      "text/plain": [
       "array(['의료'], dtype=object)"
      ]
     },
     "execution_count": 28,
     "metadata": {},
     "output_type": "execute_result"
    }
   ],
   "source": [
    "df['상권업종대분류명'].unique()"
   ]
  },
  {
   "cell_type": "code",
   "execution_count": 29,
   "id": "9857e5f4",
   "metadata": {
    "ExecuteTime": {
     "end_time": "2023-01-06T07:26:36.132071Z",
     "start_time": "2023-01-06T07:26:36.104615Z"
    }
   },
   "outputs": [
    {
     "data": {
      "text/plain": [
       "1"
      ]
     },
     "execution_count": 29,
     "metadata": {},
     "output_type": "execute_result"
    }
   ],
   "source": [
    "df['상권업종대분류명'].nunique()"
   ]
  },
  {
   "cell_type": "code",
   "execution_count": 30,
   "id": "d0ebfb7c",
   "metadata": {
    "ExecuteTime": {
     "end_time": "2023-01-06T07:26:36.162268Z",
     "start_time": "2023-01-06T07:26:36.137122Z"
    }
   },
   "outputs": [
    {
     "data": {
      "text/plain": [
       "array(['병원', '약국/한약방', '수의업', '유사의료업', '의료관련서비스업'], dtype=object)"
      ]
     },
     "execution_count": 30,
     "metadata": {},
     "output_type": "execute_result"
    }
   ],
   "source": [
    "df['상권업종중분류명'].unique()"
   ]
  },
  {
   "cell_type": "code",
   "execution_count": 31,
   "id": "4052b2a9",
   "metadata": {
    "ExecuteTime": {
     "end_time": "2023-01-06T07:26:36.193935Z",
     "start_time": "2023-01-06T07:26:36.166055Z"
    }
   },
   "outputs": [
    {
     "data": {
      "text/plain": [
       "array(['산부인과', '내과/외과', '신경외과', '기타병원', '약국', '동물병원', '한약방', '탕제원',\n",
       "       '정형/성형외과', '소아과', '이비인후과의원', '노인/치매병원', '언어치료', '수의업-종합', '한의원',\n",
       "       '치과의원', '침구원', '일반병원', '안과의원', '조산원', '한방병원', '종합병원', '유사의료업기타',\n",
       "       '응급구조대', '혈액원', '치과병원', '척추교정치료', '피부과', '비뇨기과', '치과기공소', '산후조리원',\n",
       "       '접골원', '수의업-기타', '제대혈'], dtype=object)"
      ]
     },
     "execution_count": 31,
     "metadata": {},
     "output_type": "execute_result"
    }
   ],
   "source": [
    "df['상권업종소분류명'].unique()"
   ]
  },
  {
   "cell_type": "code",
   "execution_count": 32,
   "id": "8cfce536",
   "metadata": {
    "ExecuteTime": {
     "end_time": "2023-01-06T07:26:36.226017Z",
     "start_time": "2023-01-06T07:26:36.196927Z"
    }
   },
   "outputs": [
    {
     "data": {
      "text/plain": [
       "34"
      ]
     },
     "execution_count": 32,
     "metadata": {},
     "output_type": "execute_result"
    }
   ],
   "source": [
    "df['상권업종소분류명'].nunique()"
   ]
  },
  {
   "cell_type": "code",
   "execution_count": 33,
   "id": "dba12f74",
   "metadata": {
    "ExecuteTime": {
     "end_time": "2023-01-06T07:26:36.240845Z",
     "start_time": "2023-01-06T07:26:36.228875Z"
    }
   },
   "outputs": [
    {
     "data": {
      "text/plain": [
       "0      경기도\n",
       "1    서울특별시\n",
       "2      경기도\n",
       "3    부산광역시\n",
       "4      경기도\n",
       "Name: 시도명, dtype: object"
      ]
     },
     "execution_count": 33,
     "metadata": {},
     "output_type": "execute_result"
    }
   ],
   "source": [
    "df['시도명'].head()"
   ]
  },
  {
   "cell_type": "code",
   "execution_count": 34,
   "id": "eafa0291",
   "metadata": {
    "ExecuteTime": {
     "end_time": "2023-01-06T07:26:36.256857Z",
     "start_time": "2023-01-06T07:26:36.242804Z"
    }
   },
   "outputs": [],
   "source": [
    "city = df['시도명'].value_counts()"
   ]
  },
  {
   "cell_type": "code",
   "execution_count": 35,
   "id": "affa8e0a",
   "metadata": {
    "ExecuteTime": {
     "end_time": "2023-01-06T07:26:36.287717Z",
     "start_time": "2023-01-06T07:26:36.258761Z"
    }
   },
   "outputs": [
    {
     "data": {
      "text/plain": [
       "경기도        0.234993\n",
       "서울특별시      0.208266\n",
       "부산광역시      0.071166\n",
       "경상남도       0.054675\n",
       "인천광역시      0.051915\n",
       "대구광역시      0.050541\n",
       "경상북도       0.045528\n",
       "전라북도       0.042812\n",
       "충청남도       0.039338\n",
       "전라남도       0.035446\n",
       "광주광역시      0.035336\n",
       "대전광역시      0.033720\n",
       "충청북도       0.029432\n",
       "강원도        0.028959\n",
       "울산광역시      0.021956\n",
       "제주특별자치도    0.012039\n",
       "세종특별자치시    0.003881\n",
       "Name: 시도명, dtype: float64"
      ]
     },
     "execution_count": 35,
     "metadata": {},
     "output_type": "execute_result"
    }
   ],
   "source": [
    "df['시도명'].value_counts(normalize=True)"
   ]
  },
  {
   "cell_type": "code",
   "execution_count": 36,
   "id": "3243e513",
   "metadata": {
    "ExecuteTime": {
     "end_time": "2023-01-06T07:26:36.630842Z",
     "start_time": "2023-01-06T07:26:36.289679Z"
    }
   },
   "outputs": [
    {
     "data": {
      "text/plain": [
       "<AxesSubplot:>"
      ]
     },
     "execution_count": 36,
     "metadata": {},
     "output_type": "execute_result"
    },
    {
     "data": {
      "image/png": "[encoded data removed]",
      "text/plain": [
       "<Figure size 432x288 with 1 Axes>"
      ]
     },
     "metadata": {
      "needs_background": "light"
     },
     "output_type": "display_data"
    }
   ],
   "source": [
    "city.plot.barh()"
   ]
  },
  {
   "cell_type": "code",
   "execution_count": 37,
   "id": "3e8e9591",
   "metadata": {
    "ExecuteTime": {
     "end_time": "2023-01-06T07:26:37.057240Z",
     "start_time": "2023-01-06T07:26:36.633657Z"
    }
   },
   "outputs": [
    {
     "data": {
      "text/plain": [
       "<AxesSubplot:ylabel='시도명'>"
      ]
     },
     "execution_count": 37,
     "metadata": {},
     "output_type": "execute_result"
    },
    {
     "data": {
      "image/png": "[encoded data removed]",
      "text/plain": [
       "<Figure size 504x504 with 1 Axes>"
      ]
     },
     "metadata": {},
     "output_type": "display_data"
    }
   ],
   "source": [
    "city.plot.pie(figsize=[7,7])"
   ]
  },
  {
   "cell_type": "code",
   "execution_count": 38,
   "id": "cb098cd1",
   "metadata": {
    "ExecuteTime": {
     "end_time": "2023-01-06T07:26:37.619753Z",
     "start_time": "2023-01-06T07:26:37.060965Z"
    }
   },
   "outputs": [
    {
     "data": {
      "text/plain": [
       "<AxesSubplot:xlabel='count', ylabel='시도명'>"
      ]
     },
     "execution_count": 38,
     "metadata": {},
     "output_type": "execute_result"
    },
    {
     "data": {
      "image/png": "[encoded data removed]",
      "text/plain": [
       "<Figure size 432x288 with 1 Axes>"
      ]
     },
     "metadata": {
      "needs_background": "light"
     },
     "output_type": "display_data"
    }
   ],
   "source": [
    "sns.countplot(data= df, y='시도명')"
   ]
  },
  {
   "cell_type": "code",
   "execution_count": 39,
   "id": "79247c53",
   "metadata": {
    "ExecuteTime": {
     "end_time": "2023-01-06T07:26:37.649708Z",
     "start_time": "2023-01-06T07:26:37.623775Z"
    }
   },
   "outputs": [
    {
     "data": {
      "text/plain": [
       "의료    91335\n",
       "Name: 상권업종대분류명, dtype: int64"
      ]
     },
     "execution_count": 39,
     "metadata": {},
     "output_type": "execute_result"
    }
   ],
   "source": [
    "df['상권업종대분류명'].value_counts()"
   ]
  },
  {
   "cell_type": "code",
   "execution_count": 40,
   "id": "53b953b1",
   "metadata": {
    "ExecuteTime": {
     "end_time": "2023-01-06T07:26:37.696337Z",
     "start_time": "2023-01-06T07:26:37.653329Z"
    }
   },
   "outputs": [
    {
     "data": {
      "text/plain": [
       "병원          60774\n",
       "약국/한약방      20923\n",
       "수의업          5323\n",
       "유사의료업        3774\n",
       "의료관련서비스업      541\n",
       "Name: 상권업종중분류명, dtype: int64"
      ]
     },
     "execution_count": 40,
     "metadata": {},
     "output_type": "execute_result"
    }
   ],
   "source": [
    "c= df['상권업종중분류명'].value_counts()\n",
    "c"
   ]
  },
  {
   "cell_type": "code",
   "execution_count": 41,
   "id": "96864388",
   "metadata": {
    "ExecuteTime": {
     "end_time": "2023-01-06T07:26:37.727944Z",
     "start_time": "2023-01-06T07:26:37.699971Z"
    }
   },
   "outputs": [
    {
     "data": {
      "text/plain": [
       "병원          0.665397\n",
       "약국/한약방      0.229080\n",
       "수의업         0.058280\n",
       "유사의료업       0.041320\n",
       "의료관련서비스업    0.005923\n",
       "Name: 상권업종중분류명, dtype: float64"
      ]
     },
     "execution_count": 41,
     "metadata": {},
     "output_type": "execute_result"
    }
   ],
   "source": [
    "df['상권업종중분류명'].value_counts(normalize=True)"
   ]
  },
  {
   "cell_type": "code",
   "execution_count": 42,
   "id": "4bcce226",
   "metadata": {
    "ExecuteTime": {
     "end_time": "2023-01-06T07:26:37.945074Z",
     "start_time": "2023-01-06T07:26:37.730893Z"
    }
   },
   "outputs": [
    {
     "data": {
      "text/plain": [
       "<AxesSubplot:>"
      ]
     },
     "execution_count": 42,
     "metadata": {},
     "output_type": "execute_result"
    },
    {
     "data": {
      "image/png": "[encoded data removed]",
      "text/plain": [
       "<Figure size 432x288 with 1 Axes>"
      ]
     },
     "metadata": {
      "needs_background": "light"
     },
     "output_type": "display_data"
    }
   ],
   "source": [
    "c.plot.bar(rot=0)"
   ]
  },
  {
   "cell_type": "code",
   "execution_count": 43,
   "id": "35bad9ee",
   "metadata": {
    "ExecuteTime": {
     "end_time": "2023-01-06T07:26:38.022481Z",
     "start_time": "2023-01-06T07:26:37.949214Z"
    }
   },
   "outputs": [
    {
     "data": {
      "text/html": [
       "<div>\n",
       "<style scoped>\n",
       "    .dataframe tbody tr th:only-of-type {\n",
       "        vertical-align: middle;\n",
       "    }\n",
       "\n",
       "    .dataframe tbody tr th {\n",
       "        vertical-align: top;\n",
       "    }\n",
       "\n",
       "    .dataframe thead th {\n",
       "        text-align: right;\n",
       "    }\n",
       "</style>\n",
       "<table border=\"1\" class=\"dataframe\">\n",
       "  <thead>\n",
       "    <tr style=\"text-align: right;\">\n",
       "      <th></th>\n",
       "      <th>상가업소번호</th>\n",
       "      <th>상호명</th>\n",
       "      <th>지점명</th>\n",
       "      <th>상권업종대분류코드</th>\n",
       "      <th>상권업종대분류명</th>\n",
       "      <th>상권업종중분류코드</th>\n",
       "      <th>상권업종중분류명</th>\n",
       "      <th>상권업종소분류코드</th>\n",
       "      <th>상권업종소분류명</th>\n",
       "      <th>표준산업분류코드</th>\n",
       "      <th>...</th>\n",
       "      <th>건물관리번호</th>\n",
       "      <th>건물명</th>\n",
       "      <th>도로명주소</th>\n",
       "      <th>구우편번호</th>\n",
       "      <th>신우편번호</th>\n",
       "      <th>동정보</th>\n",
       "      <th>층정보</th>\n",
       "      <th>호정보</th>\n",
       "      <th>경도</th>\n",
       "      <th>위도</th>\n",
       "    </tr>\n",
       "  </thead>\n",
       "  <tbody>\n",
       "    <tr>\n",
       "      <th>4</th>\n",
       "      <td>20364049</td>\n",
       "      <td>더블유스토어수지점</td>\n",
       "      <td>수지점</td>\n",
       "      <td>S</td>\n",
       "      <td>의료</td>\n",
       "      <td>S02</td>\n",
       "      <td>약국/한약방</td>\n",
       "      <td>S02A01</td>\n",
       "      <td>약국</td>\n",
       "      <td>G47811</td>\n",
       "      <td>...</td>\n",
       "      <td>4.150000e+24</td>\n",
       "      <td>NaN</td>\n",
       "      <td>경기도 용인시 수지구 문정로 32</td>\n",
       "      <td>448170.0</td>\n",
       "      <td>16837.0</td>\n",
       "      <td>NaN</td>\n",
       "      <td>1.0</td>\n",
       "      <td>NaN</td>\n",
       "      <td>127.095522</td>\n",
       "      <td>37.323528</td>\n",
       "    </tr>\n",
       "    <tr>\n",
       "      <th>6</th>\n",
       "      <td>20733252</td>\n",
       "      <td>춘산한약방</td>\n",
       "      <td>NaN</td>\n",
       "      <td>S</td>\n",
       "      <td>의료</td>\n",
       "      <td>S02</td>\n",
       "      <td>약국/한약방</td>\n",
       "      <td>S02A02</td>\n",
       "      <td>한약방</td>\n",
       "      <td>G47811</td>\n",
       "      <td>...</td>\n",
       "      <td>4.210000e+24</td>\n",
       "      <td>NaN</td>\n",
       "      <td>강원도 춘천시 낙원길 50</td>\n",
       "      <td>200042.0</td>\n",
       "      <td>24273.0</td>\n",
       "      <td>NaN</td>\n",
       "      <td>2.0</td>\n",
       "      <td>NaN</td>\n",
       "      <td>127.726905</td>\n",
       "      <td>37.880504</td>\n",
       "    </tr>\n",
       "    <tr>\n",
       "      <th>7</th>\n",
       "      <td>20582210</td>\n",
       "      <td>부부탕제원</td>\n",
       "      <td>NaN</td>\n",
       "      <td>S</td>\n",
       "      <td>의료</td>\n",
       "      <td>S02</td>\n",
       "      <td>약국/한약방</td>\n",
       "      <td>S02A03</td>\n",
       "      <td>탕제원</td>\n",
       "      <td>G47859</td>\n",
       "      <td>...</td>\n",
       "      <td>4.310000e+24</td>\n",
       "      <td>NaN</td>\n",
       "      <td>충청북도 청주시 상당구 중고개로337번길 134</td>\n",
       "      <td>360802.0</td>\n",
       "      <td>28726.0</td>\n",
       "      <td>NaN</td>\n",
       "      <td>1.0</td>\n",
       "      <td>NaN</td>\n",
       "      <td>127.499206</td>\n",
       "      <td>36.625355</td>\n",
       "    </tr>\n",
       "    <tr>\n",
       "      <th>10</th>\n",
       "      <td>21057519</td>\n",
       "      <td>민생약국</td>\n",
       "      <td>NaN</td>\n",
       "      <td>S</td>\n",
       "      <td>의료</td>\n",
       "      <td>S02</td>\n",
       "      <td>약국/한약방</td>\n",
       "      <td>S02A01</td>\n",
       "      <td>약국</td>\n",
       "      <td>G47811</td>\n",
       "      <td>...</td>\n",
       "      <td>4.890000e+24</td>\n",
       "      <td>NaN</td>\n",
       "      <td>경상남도 합천군 용주면 월평길 149-35</td>\n",
       "      <td>678912.0</td>\n",
       "      <td>50212.0</td>\n",
       "      <td>NaN</td>\n",
       "      <td>NaN</td>\n",
       "      <td>NaN</td>\n",
       "      <td>128.118615</td>\n",
       "      <td>35.575962</td>\n",
       "    </tr>\n",
       "    <tr>\n",
       "      <th>13</th>\n",
       "      <td>21217689</td>\n",
       "      <td>제중당한약방</td>\n",
       "      <td>NaN</td>\n",
       "      <td>S</td>\n",
       "      <td>의료</td>\n",
       "      <td>S02</td>\n",
       "      <td>약국/한약방</td>\n",
       "      <td>S02A02</td>\n",
       "      <td>한약방</td>\n",
       "      <td>G47811</td>\n",
       "      <td>...</td>\n",
       "      <td>4.680000e+24</td>\n",
       "      <td>NaN</td>\n",
       "      <td>전라남도 영암군 도포면 인덕길 75-10</td>\n",
       "      <td>526832.0</td>\n",
       "      <td>58429.0</td>\n",
       "      <td>NaN</td>\n",
       "      <td>NaN</td>\n",
       "      <td>NaN</td>\n",
       "      <td>126.630348</td>\n",
       "      <td>34.834080</td>\n",
       "    </tr>\n",
       "  </tbody>\n",
       "</table>\n",
       "<p>5 rows × 39 columns</p>\n",
       "</div>"
      ],
      "text/plain": [
       "      상가업소번호        상호명  지점명 상권업종대분류코드 상권업종대분류명 상권업종중분류코드 상권업종중분류명 상권업종소분류코드  \\\n",
       "4   20364049  더블유스토어수지점  수지점         S       의료       S02   약국/한약방    S02A01   \n",
       "6   20733252      춘산한약방  NaN         S       의료       S02   약국/한약방    S02A02   \n",
       "7   20582210      부부탕제원  NaN         S       의료       S02   약국/한약방    S02A03   \n",
       "10  21057519       민생약국  NaN         S       의료       S02   약국/한약방    S02A01   \n",
       "13  21217689     제중당한약방  NaN         S       의료       S02   약국/한약방    S02A02   \n",
       "\n",
       "   상권업종소분류명 표준산업분류코드  ...        건물관리번호  건물명                       도로명주소  \\\n",
       "4        약국   G47811  ...  4.150000e+24  NaN          경기도 용인시 수지구 문정로 32   \n",
       "6       한약방   G47811  ...  4.210000e+24  NaN              강원도 춘천시 낙원길 50   \n",
       "7       탕제원   G47859  ...  4.310000e+24  NaN  충청북도 청주시 상당구 중고개로337번길 134   \n",
       "10       약국   G47811  ...  4.890000e+24  NaN     경상남도 합천군 용주면 월평길 149-35   \n",
       "13      한약방   G47811  ...  4.680000e+24  NaN      전라남도 영암군 도포면 인덕길 75-10   \n",
       "\n",
       "       구우편번호    신우편번호  동정보  층정보  호정보          경도         위도  \n",
       "4   448170.0  16837.0  NaN  1.0  NaN  127.095522  37.323528  \n",
       "6   200042.0  24273.0  NaN  2.0  NaN  127.726905  37.880504  \n",
       "7   360802.0  28726.0  NaN  1.0  NaN  127.499206  36.625355  \n",
       "10  678912.0  50212.0  NaN  NaN  NaN  128.118615  35.575962  \n",
       "13  526832.0  58429.0  NaN  NaN  NaN  126.630348  34.834080  \n",
       "\n",
       "[5 rows x 39 columns]"
      ]
     },
     "execution_count": 43,
     "metadata": {},
     "output_type": "execute_result"
    }
   ],
   "source": [
    "df_medical = df[df['상권업종중분류명'] == '약국/한약방'].copy()\n",
    "df_medical.head()"
   ]
  },
  {
   "cell_type": "code",
   "execution_count": 44,
   "id": "6433e021",
   "metadata": {
    "ExecuteTime": {
     "end_time": "2023-01-06T07:26:38.067916Z",
     "start_time": "2023-01-06T07:26:38.025971Z"
    }
   },
   "outputs": [
    {
     "data": {
      "text/plain": [
       "0        의료\n",
       "1        의료\n",
       "2        의료\n",
       "3        의료\n",
       "4        의료\n",
       "         ..\n",
       "91330    의료\n",
       "91331    의료\n",
       "91332    의료\n",
       "91333    의료\n",
       "91334    의료\n",
       "Name: 상권업종대분류명, Length: 91335, dtype: object"
      ]
     },
     "execution_count": 44,
     "metadata": {},
     "output_type": "execute_result"
    }
   ],
   "source": [
    "df.loc[df['상권업종대분류명'] =='의료','상권업종대분류명'] #loc행과열이 존재할때, 인덱싱하기"
   ]
  },
  {
   "cell_type": "code",
   "execution_count": 45,
   "id": "89882fce",
   "metadata": {
    "ExecuteTime": {
     "end_time": "2023-01-06T07:26:38.099026Z",
     "start_time": "2023-01-06T07:26:38.070844Z"
    }
   },
   "outputs": [
    {
     "data": {
      "text/plain": [
       "(3774, 39)"
      ]
     },
     "execution_count": 45,
     "metadata": {},
     "output_type": "execute_result"
    }
   ],
   "source": [
    "df_medi = df[df['상권업종중분류명']=='유사의료업']\n",
    "df_medi.shape"
   ]
  },
  {
   "cell_type": "code",
   "execution_count": 46,
   "id": "d7d578eb",
   "metadata": {
    "ExecuteTime": {
     "end_time": "2023-01-06T07:26:38.190662Z",
     "start_time": "2023-01-06T07:26:38.103757Z"
    }
   },
   "outputs": [
    {
     "data": {
      "text/plain": [
       "리원       152\n",
       "온누리약국    149\n",
       "경희한의원    141\n",
       "우리약국     119\n",
       "중앙약국     111\n",
       "Name: 상호명, dtype: int64"
      ]
     },
     "execution_count": 46,
     "metadata": {},
     "output_type": "execute_result"
    }
   ],
   "source": [
    "df['상호명'].value_counts().head()"
   ]
  },
  {
   "cell_type": "code",
   "execution_count": 47,
   "id": "5b04ebb9",
   "metadata": {
    "ExecuteTime": {
     "end_time": "2023-01-06T07:26:38.220494Z",
     "start_time": "2023-01-06T07:26:38.194514Z"
    }
   },
   "outputs": [
    {
     "data": {
      "text/plain": [
       "리원         32\n",
       "고려수지침      22\n",
       "대한적십자사     17\n",
       "헌혈의집       12\n",
       "고려수지침학회    10\n",
       "Name: 상호명, dtype: int64"
      ]
     },
     "execution_count": 47,
     "metadata": {},
     "output_type": "execute_result"
    }
   ],
   "source": [
    "df_medi['상호명'].value_counts().head()"
   ]
  },
  {
   "cell_type": "code",
   "execution_count": 48,
   "id": "508be586",
   "metadata": {
    "ExecuteTime": {
     "end_time": "2023-01-06T07:26:38.329096Z",
     "start_time": "2023-01-06T07:26:38.224475Z"
    }
   },
   "outputs": [
    {
     "data": {
      "text/html": [
       "<div>\n",
       "<style scoped>\n",
       "    .dataframe tbody tr th:only-of-type {\n",
       "        vertical-align: middle;\n",
       "    }\n",
       "\n",
       "    .dataframe tbody tr th {\n",
       "        vertical-align: top;\n",
       "    }\n",
       "\n",
       "    .dataframe thead th {\n",
       "        text-align: right;\n",
       "    }\n",
       "</style>\n",
       "<table border=\"1\" class=\"dataframe\">\n",
       "  <thead>\n",
       "    <tr style=\"text-align: right;\">\n",
       "      <th></th>\n",
       "      <th>상가업소번호</th>\n",
       "      <th>상호명</th>\n",
       "      <th>지점명</th>\n",
       "      <th>상권업종대분류코드</th>\n",
       "      <th>상권업종대분류명</th>\n",
       "      <th>상권업종중분류코드</th>\n",
       "      <th>상권업종중분류명</th>\n",
       "      <th>상권업종소분류코드</th>\n",
       "      <th>상권업종소분류명</th>\n",
       "      <th>표준산업분류코드</th>\n",
       "      <th>...</th>\n",
       "      <th>건물관리번호</th>\n",
       "      <th>건물명</th>\n",
       "      <th>도로명주소</th>\n",
       "      <th>구우편번호</th>\n",
       "      <th>신우편번호</th>\n",
       "      <th>동정보</th>\n",
       "      <th>층정보</th>\n",
       "      <th>호정보</th>\n",
       "      <th>경도</th>\n",
       "      <th>위도</th>\n",
       "    </tr>\n",
       "  </thead>\n",
       "  <tbody>\n",
       "    <tr>\n",
       "      <th>33</th>\n",
       "      <td>20816709</td>\n",
       "      <td>이즈타워약</td>\n",
       "      <td>NaN</td>\n",
       "      <td>S</td>\n",
       "      <td>의료</td>\n",
       "      <td>S02</td>\n",
       "      <td>약국/한약방</td>\n",
       "      <td>S02A01</td>\n",
       "      <td>약국</td>\n",
       "      <td>G47811</td>\n",
       "      <td>...</td>\n",
       "      <td>1.170000e+24</td>\n",
       "      <td>이즈타워</td>\n",
       "      <td>서울특별시 강남구 테헤란로 101</td>\n",
       "      <td>135080.0</td>\n",
       "      <td>6134.0</td>\n",
       "      <td>NaN</td>\n",
       "      <td>1.0</td>\n",
       "      <td>NaN</td>\n",
       "      <td>127.028023</td>\n",
       "      <td>37.498656</td>\n",
       "    </tr>\n",
       "    <tr>\n",
       "      <th>51</th>\n",
       "      <td>20855710</td>\n",
       "      <td>진흥약국</td>\n",
       "      <td>NaN</td>\n",
       "      <td>S</td>\n",
       "      <td>의료</td>\n",
       "      <td>S02</td>\n",
       "      <td>약국/한약방</td>\n",
       "      <td>S02A01</td>\n",
       "      <td>약국</td>\n",
       "      <td>G47811</td>\n",
       "      <td>...</td>\n",
       "      <td>1.170000e+24</td>\n",
       "      <td>둔촌푸르지오아파트</td>\n",
       "      <td>서울특별시 강동구 명일로 172</td>\n",
       "      <td>134767.0</td>\n",
       "      <td>5360.0</td>\n",
       "      <td>NaN</td>\n",
       "      <td>NaN</td>\n",
       "      <td>NaN</td>\n",
       "      <td>127.145055</td>\n",
       "      <td>37.534135</td>\n",
       "    </tr>\n",
       "    <tr>\n",
       "      <th>130</th>\n",
       "      <td>21589838</td>\n",
       "      <td>신세계약국</td>\n",
       "      <td>NaN</td>\n",
       "      <td>S</td>\n",
       "      <td>의료</td>\n",
       "      <td>S02</td>\n",
       "      <td>약국/한약방</td>\n",
       "      <td>S02A01</td>\n",
       "      <td>약국</td>\n",
       "      <td>G47811</td>\n",
       "      <td>...</td>\n",
       "      <td>1.130000e+24</td>\n",
       "      <td>금강리빙스텔</td>\n",
       "      <td>서울특별시 중랑구 신내로 211</td>\n",
       "      <td>131130.0</td>\n",
       "      <td>2024.0</td>\n",
       "      <td>NaN</td>\n",
       "      <td>1.0</td>\n",
       "      <td>NaN</td>\n",
       "      <td>127.092597</td>\n",
       "      <td>37.616424</td>\n",
       "    </tr>\n",
       "    <tr>\n",
       "      <th>136</th>\n",
       "      <td>22388303</td>\n",
       "      <td>메디팜한솔약국</td>\n",
       "      <td>NaN</td>\n",
       "      <td>S</td>\n",
       "      <td>의료</td>\n",
       "      <td>S02</td>\n",
       "      <td>약국/한약방</td>\n",
       "      <td>S02A01</td>\n",
       "      <td>약국</td>\n",
       "      <td>G47811</td>\n",
       "      <td>...</td>\n",
       "      <td>1.120000e+24</td>\n",
       "      <td>한진노변상가</td>\n",
       "      <td>서울특별시 성동구 행당로 82</td>\n",
       "      <td>133777.0</td>\n",
       "      <td>4717.0</td>\n",
       "      <td>NaN</td>\n",
       "      <td>1.0</td>\n",
       "      <td>NaN</td>\n",
       "      <td>127.027513</td>\n",
       "      <td>37.556238</td>\n",
       "    </tr>\n",
       "    <tr>\n",
       "      <th>141</th>\n",
       "      <td>22412563</td>\n",
       "      <td>명약국</td>\n",
       "      <td>NaN</td>\n",
       "      <td>S</td>\n",
       "      <td>의료</td>\n",
       "      <td>S02</td>\n",
       "      <td>약국/한약방</td>\n",
       "      <td>S02A01</td>\n",
       "      <td>약국</td>\n",
       "      <td>G47811</td>\n",
       "      <td>...</td>\n",
       "      <td>1.120000e+24</td>\n",
       "      <td>NaN</td>\n",
       "      <td>서울특별시 동대문구 망우로18나길 3</td>\n",
       "      <td>130090.0</td>\n",
       "      <td>2498.0</td>\n",
       "      <td>NaN</td>\n",
       "      <td>1.0</td>\n",
       "      <td>NaN</td>\n",
       "      <td>127.060556</td>\n",
       "      <td>37.587349</td>\n",
       "    </tr>\n",
       "    <tr>\n",
       "      <th>...</th>\n",
       "      <td>...</td>\n",
       "      <td>...</td>\n",
       "      <td>...</td>\n",
       "      <td>...</td>\n",
       "      <td>...</td>\n",
       "      <td>...</td>\n",
       "      <td>...</td>\n",
       "      <td>...</td>\n",
       "      <td>...</td>\n",
       "      <td>...</td>\n",
       "      <td>...</td>\n",
       "      <td>...</td>\n",
       "      <td>...</td>\n",
       "      <td>...</td>\n",
       "      <td>...</td>\n",
       "      <td>...</td>\n",
       "      <td>...</td>\n",
       "      <td>...</td>\n",
       "      <td>...</td>\n",
       "      <td>...</td>\n",
       "      <td>...</td>\n",
       "    </tr>\n",
       "    <tr>\n",
       "      <th>91239</th>\n",
       "      <td>16131547</td>\n",
       "      <td>우리이웃약국</td>\n",
       "      <td>NaN</td>\n",
       "      <td>S</td>\n",
       "      <td>의료</td>\n",
       "      <td>S02</td>\n",
       "      <td>약국/한약방</td>\n",
       "      <td>S02A01</td>\n",
       "      <td>약국</td>\n",
       "      <td>G47811</td>\n",
       "      <td>...</td>\n",
       "      <td>1.130000e+24</td>\n",
       "      <td>종암선경아파트</td>\n",
       "      <td>서울특별시 성북구 종암로5길 26</td>\n",
       "      <td>136769.0</td>\n",
       "      <td>2811.0</td>\n",
       "      <td>NaN</td>\n",
       "      <td>1.0</td>\n",
       "      <td>116.0</td>\n",
       "      <td>127.033907</td>\n",
       "      <td>37.594792</td>\n",
       "    </tr>\n",
       "    <tr>\n",
       "      <th>91275</th>\n",
       "      <td>16195709</td>\n",
       "      <td>더블유스토어</td>\n",
       "      <td>세계로</td>\n",
       "      <td>S</td>\n",
       "      <td>의료</td>\n",
       "      <td>S02</td>\n",
       "      <td>약국/한약방</td>\n",
       "      <td>S02A01</td>\n",
       "      <td>약국</td>\n",
       "      <td>G47811</td>\n",
       "      <td>...</td>\n",
       "      <td>1.150000e+24</td>\n",
       "      <td>신구로자이나인스에비뉴</td>\n",
       "      <td>서울특별시 구로구 구로중앙로 134</td>\n",
       "      <td>152731.0</td>\n",
       "      <td>8293.0</td>\n",
       "      <td>1</td>\n",
       "      <td>1.0</td>\n",
       "      <td>NaN</td>\n",
       "      <td>126.884285</td>\n",
       "      <td>37.499936</td>\n",
       "    </tr>\n",
       "    <tr>\n",
       "      <th>91288</th>\n",
       "      <td>16131839</td>\n",
       "      <td>종각팜약국</td>\n",
       "      <td>NaN</td>\n",
       "      <td>S</td>\n",
       "      <td>의료</td>\n",
       "      <td>S02</td>\n",
       "      <td>약국/한약방</td>\n",
       "      <td>S02A01</td>\n",
       "      <td>약국</td>\n",
       "      <td>G47811</td>\n",
       "      <td>...</td>\n",
       "      <td>1.110000e+24</td>\n",
       "      <td>대한기독교서회</td>\n",
       "      <td>서울특별시 종로구 종로 68</td>\n",
       "      <td>110122.0</td>\n",
       "      <td>3189.0</td>\n",
       "      <td>NaN</td>\n",
       "      <td>1.0</td>\n",
       "      <td>NaN</td>\n",
       "      <td>126.984930</td>\n",
       "      <td>37.569882</td>\n",
       "    </tr>\n",
       "    <tr>\n",
       "      <th>91301</th>\n",
       "      <td>16188650</td>\n",
       "      <td>온누리약국</td>\n",
       "      <td>우리네</td>\n",
       "      <td>S</td>\n",
       "      <td>의료</td>\n",
       "      <td>S02</td>\n",
       "      <td>약국/한약방</td>\n",
       "      <td>S02A01</td>\n",
       "      <td>약국</td>\n",
       "      <td>G47811</td>\n",
       "      <td>...</td>\n",
       "      <td>1.150000e+24</td>\n",
       "      <td>NaN</td>\n",
       "      <td>서울특별시 구로구 디지털로27길 116</td>\n",
       "      <td>152875.0</td>\n",
       "      <td>8374.0</td>\n",
       "      <td>NaN</td>\n",
       "      <td>NaN</td>\n",
       "      <td>NaN</td>\n",
       "      <td>126.888070</td>\n",
       "      <td>37.484897</td>\n",
       "    </tr>\n",
       "    <tr>\n",
       "      <th>91322</th>\n",
       "      <td>16091491</td>\n",
       "      <td>설연화한복감성약방</td>\n",
       "      <td>NaN</td>\n",
       "      <td>S</td>\n",
       "      <td>의료</td>\n",
       "      <td>S02</td>\n",
       "      <td>약국/한약방</td>\n",
       "      <td>S02A01</td>\n",
       "      <td>약국</td>\n",
       "      <td>G47811</td>\n",
       "      <td>...</td>\n",
       "      <td>1.130000e+24</td>\n",
       "      <td>NaN</td>\n",
       "      <td>서울특별시 중랑구 공릉로 28</td>\n",
       "      <td>131848.0</td>\n",
       "      <td>2034.0</td>\n",
       "      <td>NaN</td>\n",
       "      <td>NaN</td>\n",
       "      <td>NaN</td>\n",
       "      <td>127.078082</td>\n",
       "      <td>37.613194</td>\n",
       "    </tr>\n",
       "  </tbody>\n",
       "</table>\n",
       "<p>3579 rows × 39 columns</p>\n",
       "</div>"
      ],
      "text/plain": [
       "         상가업소번호        상호명  지점명 상권업종대분류코드 상권업종대분류명 상권업종중분류코드 상권업종중분류명  \\\n",
       "33     20816709      이즈타워약  NaN         S       의료       S02   약국/한약방   \n",
       "51     20855710       진흥약국  NaN         S       의료       S02   약국/한약방   \n",
       "130    21589838      신세계약국  NaN         S       의료       S02   약국/한약방   \n",
       "136    22388303    메디팜한솔약국  NaN         S       의료       S02   약국/한약방   \n",
       "141    22412563        명약국  NaN         S       의료       S02   약국/한약방   \n",
       "...         ...        ...  ...       ...      ...       ...      ...   \n",
       "91239  16131547     우리이웃약국  NaN         S       의료       S02   약국/한약방   \n",
       "91275  16195709     더블유스토어  세계로         S       의료       S02   약국/한약방   \n",
       "91288  16131839      종각팜약국  NaN         S       의료       S02   약국/한약방   \n",
       "91301  16188650      온누리약국  우리네         S       의료       S02   약국/한약방   \n",
       "91322  16091491  설연화한복감성약방  NaN         S       의료       S02   약국/한약방   \n",
       "\n",
       "      상권업종소분류코드 상권업종소분류명 표준산업분류코드  ...        건물관리번호          건물명  \\\n",
       "33       S02A01       약국   G47811  ...  1.170000e+24         이즈타워   \n",
       "51       S02A01       약국   G47811  ...  1.170000e+24    둔촌푸르지오아파트   \n",
       "130      S02A01       약국   G47811  ...  1.130000e+24       금강리빙스텔   \n",
       "136      S02A01       약국   G47811  ...  1.120000e+24       한진노변상가   \n",
       "141      S02A01       약국   G47811  ...  1.120000e+24          NaN   \n",
       "...         ...      ...      ...  ...           ...          ...   \n",
       "91239    S02A01       약국   G47811  ...  1.130000e+24      종암선경아파트   \n",
       "91275    S02A01       약국   G47811  ...  1.150000e+24  신구로자이나인스에비뉴   \n",
       "91288    S02A01       약국   G47811  ...  1.110000e+24      대한기독교서회   \n",
       "91301    S02A01       약국   G47811  ...  1.150000e+24          NaN   \n",
       "91322    S02A01       약국   G47811  ...  1.130000e+24          NaN   \n",
       "\n",
       "                       도로명주소     구우편번호   신우편번호  동정보  층정보    호정보          경도  \\\n",
       "33        서울특별시 강남구 테헤란로 101  135080.0  6134.0  NaN  1.0    NaN  127.028023   \n",
       "51         서울특별시 강동구 명일로 172  134767.0  5360.0  NaN  NaN    NaN  127.145055   \n",
       "130        서울특별시 중랑구 신내로 211  131130.0  2024.0  NaN  1.0    NaN  127.092597   \n",
       "136         서울특별시 성동구 행당로 82  133777.0  4717.0  NaN  1.0    NaN  127.027513   \n",
       "141     서울특별시 동대문구 망우로18나길 3  130090.0  2498.0  NaN  1.0    NaN  127.060556   \n",
       "...                      ...       ...     ...  ...  ...    ...         ...   \n",
       "91239     서울특별시 성북구 종암로5길 26  136769.0  2811.0  NaN  1.0  116.0  127.033907   \n",
       "91275    서울특별시 구로구 구로중앙로 134  152731.0  8293.0    1  1.0    NaN  126.884285   \n",
       "91288        서울특별시 종로구 종로 68  110122.0  3189.0  NaN  1.0    NaN  126.984930   \n",
       "91301  서울특별시 구로구 디지털로27길 116  152875.0  8374.0  NaN  NaN    NaN  126.888070   \n",
       "91322       서울특별시 중랑구 공릉로 28  131848.0  2034.0  NaN  NaN    NaN  127.078082   \n",
       "\n",
       "              위도  \n",
       "33     37.498656  \n",
       "51     37.534135  \n",
       "130    37.616424  \n",
       "136    37.556238  \n",
       "141    37.587349  \n",
       "...          ...  \n",
       "91239  37.594792  \n",
       "91275  37.499936  \n",
       "91288  37.569882  \n",
       "91301  37.484897  \n",
       "91322  37.613194  \n",
       "\n",
       "[3579 rows x 39 columns]"
      ]
     },
     "execution_count": 48,
     "metadata": {},
     "output_type": "execute_result"
    }
   ],
   "source": [
    "df_seoul_drug=df[(df['상권업종소분류명']=='약국') & (df['시도명'] =='서울특별시')]\n",
    "df_seoul_drug"
   ]
  },
  {
   "cell_type": "code",
   "execution_count": 49,
   "id": "b982a4a6",
   "metadata": {
    "ExecuteTime": {
     "end_time": "2023-01-06T07:26:38.344462Z",
     "start_time": "2023-01-06T07:26:38.331880Z"
    }
   },
   "outputs": [
    {
     "data": {
      "text/plain": [
       "강남구     374\n",
       "동대문구    261\n",
       "광진구     212\n",
       "서초구     191\n",
       "송파구     188\n",
       "Name: 시군구명, dtype: int64"
      ]
     },
     "execution_count": 49,
     "metadata": {},
     "output_type": "execute_result"
    }
   ],
   "source": [
    "c=df_seoul_drug['시군구명'].value_counts()\n",
    "c.head()"
   ]
  },
  {
   "cell_type": "code",
   "execution_count": 50,
   "id": "7c936a4a",
   "metadata": {
    "ExecuteTime": {
     "end_time": "2023-01-06T07:26:38.375816Z",
     "start_time": "2023-01-06T07:26:38.347837Z"
    }
   },
   "outputs": [],
   "source": [
    "#서울에 있는 종합병원 분포를 확인할거야\n",
    "df_seoul_hospital = df[(df['상권업종소분류명']=='종합병원')&(df['시도명']=='서울특별시')].copy()"
   ]
  },
  {
   "cell_type": "code",
   "execution_count": 51,
   "id": "92b517ed",
   "metadata": {
    "ExecuteTime": {
     "end_time": "2023-01-06T07:26:38.406714Z",
     "start_time": "2023-01-06T07:26:38.377759Z"
    }
   },
   "outputs": [
    {
     "data": {
      "text/plain": [
       "강남구     15\n",
       "영등포구     8\n",
       "광진구      6\n",
       "서초구      6\n",
       "강동구      5\n",
       "중구       5\n",
       "송파구      5\n",
       "강북구      4\n",
       "도봉구      4\n",
       "서대문구     4\n",
       "양천구      4\n",
       "성북구      3\n",
       "강서구      2\n",
       "중랑구      2\n",
       "종로구      2\n",
       "동대문구     2\n",
       "구로구      2\n",
       "노원구      2\n",
       "금천구      2\n",
       "성동구      2\n",
       "관악구      2\n",
       "동작구      1\n",
       "마포구      1\n",
       "용산구      1\n",
       "은평구      1\n",
       "Name: 시군구명, dtype: int64"
      ]
     },
     "execution_count": 51,
     "metadata": {},
     "output_type": "execute_result"
    }
   ],
   "source": [
    "df_seoul_hospital['시군구명'].value_counts()"
   ]
  },
  {
   "cell_type": "markdown",
   "id": "6ac217b0",
   "metadata": {},
   "source": [
    "## 서울 종합병원의 데이터 가공!!\n",
    "*종합병원 아닌 데이터들은 지워야지!\n",
    "*데이터를 가공하고 보니 남은 데이터가 몇개 없네..."
   ]
  },
  {
   "cell_type": "code",
   "execution_count": 52,
   "id": "47aff4c0",
   "metadata": {
    "ExecuteTime": {
     "end_time": "2023-01-06T07:26:38.421640Z",
     "start_time": "2023-01-06T07:26:38.409673Z"
    }
   },
   "outputs": [
    {
     "data": {
      "text/plain": [
       "array(['대진의료재단', '홍익병원별관', 'SNUH', '평화드림여의도성모병원의료기매장', '한양', '백산의료재단친구병원',\n",
       "       '서울보훈병원', '서울성모병원장례식장꽃배달', '서울대학교병원', '알콜중독및정신질환상담소',\n",
       "       '강남성모병원장례식장꽃배달', '제일병원', '이랜드클리닉', '사랑나눔의료재단', '우울증센터', '성심의료재단',\n",
       "       '다나의료재단', '서울아산병원신관', '원자력병원장례식장', '국민의원', '고려대학교구로병원', '학교법인일송학원',\n",
       "       '삼성의료원장례식장', '희명스포츠의학센터인공신장실', '연세대학교의과대학강남세브란스', '국립정신병원',\n",
       "       '코아클리닉', '수서제일의원', '사랑의의원', '한국전력공사부속한일병원', '신촌연세병원', '창동제일의원',\n",
       "       '영동세브란스병원', '제일성심의원', '삼성의료재단강북삼성태', '서울시립보라매병원', '서울이의원',\n",
       "       '서울대학교병원비상계획외래', '평화드림서울성모병원의료', '홍익병원', '사랑나눔의료재단서', '독일의원',\n",
       "       '서울연합의원', '우신향병원', '동부제일병원', '아산재단금강병원', '명곡안연구소', '아산재단서울중앙병원',\n",
       "       '메디힐특수여객', '삼성생명공익재단삼성서', '성광의료재단차병원', '한국건강관리협회서울특',\n",
       "       '정해복지부설한신메디피아', '성베드로병원', '성애의료재단', '실로암의원', 'Y&T성모마취과', '광진성모의원',\n",
       "       '서울현대의원', '이노신경과의원', '송정훼밀리의원', '서울중앙의원', '영남의료재단', '인제대학교서울백병원',\n",
       "       '한국필의료재단', '세브란스의원', '가톨릭대학교성바오로병원장례식장', '서울연세의원', '사랑의병원',\n",
       "       '성삼의료재단미즈메디병원', '씨엠충무병원', '성신의원', '원진재단부설녹색병원', '송파제일의원',\n",
       "       '카톨릭성모의원', '한양성심의원', '관악성모의원', '강남센트럴병원', '우이한솔의원', '우리들병원',\n",
       "       '서울성모병원어린이집', '건국대학교병원', '서울적십자병원', '북부성모의원', '한림대학교부속한강성심병원장례식장',\n",
       "       '서울성모병원응급의료센터', '라마르의원', '가톨릭대학교여의도성모병원', '씨엠병원'], dtype=object)"
      ]
     },
     "execution_count": 52,
     "metadata": {},
     "output_type": "execute_result"
    }
   ],
   "source": [
    "df_seoul_hospital.loc[~df_seoul_hospital['상호명'].str.contains('종합병원')\n",
    "                      ,'상호명'].unique()"
   ]
  },
  {
   "cell_type": "code",
   "execution_count": 84,
   "id": "e84b2a5d",
   "metadata": {
    "ExecuteTime": {
     "end_time": "2023-01-06T07:50:59.314685Z",
     "start_time": "2023-01-06T07:50:59.291745Z"
    }
   },
   "outputs": [
    {
     "data": {
      "text/plain": [
       "False    39\n",
       "True      2\n",
       "Name: 상호명, dtype: int64"
      ]
     },
     "execution_count": 84,
     "metadata": {},
     "output_type": "execute_result"
    }
   ],
   "source": [
    "df_seoul_hospital['상호명'].str.contains('꽃배달').value_counts()"
   ]
  },
  {
   "cell_type": "code",
   "execution_count": null,
   "id": "f25af583",
   "metadata": {
    "ExecuteTime": {
     "end_time": "2023-01-06T07:26:39.869065Z",
     "start_time": "2023-01-06T07:26:39.869065Z"
    }
   },
   "outputs": [],
   "source": [
    "df_seoul_hospital[df_seoul_hospital['상호명'].str.contains('의료기')]"
   ]
  },
  {
   "cell_type": "code",
   "execution_count": 85,
   "id": "2f4e1215",
   "metadata": {
    "ExecuteTime": {
     "end_time": "2023-01-06T07:51:04.296574Z",
     "start_time": "2023-01-06T07:51:04.275327Z"
    }
   },
   "outputs": [
    {
     "data": {
      "text/plain": [
       "8"
      ]
     },
     "execution_count": 85,
     "metadata": {},
     "output_type": "execute_result"
    }
   ],
   "source": [
    "#종합병원과 무관한 데이터 전처리시켜야대!!!\n",
    "drop_row = df_seoul_hospital[\n",
    "    df_seoul_hospital['상호명'].str.contains('꽃배달|의료기|장례식장|상담소|어린이집')].index\n",
    "drop_row = drop_row.tolist()\n",
    "len(drop_row)"
   ]
  },
  {
   "cell_type": "code",
   "execution_count": 86,
   "id": "e867d0c7",
   "metadata": {
    "ExecuteTime": {
     "end_time": "2023-01-06T07:51:04.906432Z",
     "start_time": "2023-01-06T07:51:04.886725Z"
    }
   },
   "outputs": [
    {
     "data": {
      "text/plain": [
       "0"
      ]
     },
     "execution_count": 86,
     "metadata": {},
     "output_type": "execute_result"
    }
   ],
   "source": [
    "drop_row2 =df_seoul_hospital[df_seoul_hospital['상호명'].str.contains('의원')].index\n",
    "drop_row2 = drop_row2.tolist()\n",
    "drop_row2\n",
    "len(drop_row2)"
   ]
  },
  {
   "cell_type": "code",
   "execution_count": 87,
   "id": "d9bf41a6",
   "metadata": {
    "ExecuteTime": {
     "end_time": "2023-01-06T07:51:06.431202Z",
     "start_time": "2023-01-06T07:51:06.409153Z"
    }
   },
   "outputs": [
    {
     "data": {
      "text/plain": [
       "8"
      ]
     },
     "execution_count": 87,
     "metadata": {},
     "output_type": "execute_result"
    }
   ],
   "source": [
    " drop_row = drop_row + drop_row2\n",
    "drop_row\n",
    "len(drop_row)"
   ]
  },
  {
   "cell_type": "code",
   "execution_count": 88,
   "id": "3f55c7e7",
   "metadata": {
    "ExecuteTime": {
     "end_time": "2023-01-06T07:51:06.978177Z",
     "start_time": "2023-01-06T07:51:06.969513Z"
    }
   },
   "outputs": [],
   "source": [
    "df_seoul_hospital=df_seoul_hospital.drop(drop_row,axis=0)"
   ]
  },
  {
   "cell_type": "code",
   "execution_count": null,
   "id": "7f76b78a",
   "metadata": {
    "ExecuteTime": {
     "end_time": "2023-01-06T07:26:39.878025Z",
     "start_time": "2023-01-06T07:26:39.878025Z"
    }
   },
   "outputs": [],
   "source": [
    "df_seoul_hospital['시군구명'].value_counts().plot.bar()"
   ]
  },
  {
   "cell_type": "code",
   "execution_count": null,
   "id": "34df9541",
   "metadata": {
    "ExecuteTime": {
     "end_time": "2023-01-06T07:26:39.881020Z",
     "start_time": "2023-01-06T07:26:39.881020Z"
    }
   },
   "outputs": [],
   "source": [
    "plt.figure(figsize=(15,4))\n",
    "sns.countplot(data=df_seoul_hospital, x='시군구명',\n",
    "             order = df_seoul_hospital['시군구명'].value_counts().index)"
   ]
  },
  {
   "cell_type": "code",
   "execution_count": null,
   "id": "a9265a60",
   "metadata": {
    "ExecuteTime": {
     "end_time": "2023-01-06T07:26:39.883014Z",
     "start_time": "2023-01-06T07:26:39.883014Z"
    }
   },
   "outputs": [],
   "source": [
    "df_seoul_hospital['상호명'].unique()"
   ]
  },
  {
   "cell_type": "code",
   "execution_count": 93,
   "id": "b55a2b74",
   "metadata": {
    "ExecuteTime": {
     "end_time": "2023-01-06T07:51:41.975693Z",
     "start_time": "2023-01-06T07:51:41.957613Z"
    }
   },
   "outputs": [
    {
     "data": {
      "text/plain": [
       "[10937]"
      ]
     },
     "execution_count": 93,
     "metadata": {},
     "output_type": "execute_result"
    }
   ],
   "source": [
    "drop_row3 = df_seoul_hospital[df_seoul_hospital['상호명'].str.contains('재단|연구소|학원|우울증|별관|외래|메디피아|마취과|클리닉|상담소|의원|여객|신장실')].index\n",
    "drop_row3 =drop_row3.tolist()\n",
    "drop_row3"
   ]
  },
  {
   "cell_type": "code",
   "execution_count": 91,
   "id": "3c74d026",
   "metadata": {
    "ExecuteTime": {
     "end_time": "2023-01-06T07:51:28.145427Z",
     "start_time": "2023-01-06T07:51:28.135055Z"
    }
   },
   "outputs": [],
   "source": [
    "df_seoul_hospital = df_seoul_hospital.drop(drop_row3, axis = 0)"
   ]
  },
  {
   "cell_type": "code",
   "execution_count": 94,
   "id": "6caeaad2",
   "metadata": {
    "ExecuteTime": {
     "end_time": "2023-01-06T07:51:44.263995Z",
     "start_time": "2023-01-06T07:51:44.245939Z"
    }
   },
   "outputs": [
    {
     "data": {
      "text/plain": [
       "array(['SNUH', '한양', '서울보훈병원', '서울대학교병원', '제일병원', '서울아산병원신관', '고려대학교구로병원',\n",
       "       '희명스포츠의학센터인공신장실', '연세대학교의과대학강남세브란스', '국립정신병원', '한국전력공사부속한일병원',\n",
       "       '신촌연세병원', '영동세브란스병원', '서울시립보라매병원', '평화드림서울성모병원의료', '홍익병원', '우신향병원',\n",
       "       '동부제일병원', '한국건강관리협회서울특', '성베드로병원', '인제대학교서울백병원', '사랑의병원', '씨엠충무병원',\n",
       "       '강남센트럴병원', '우리들병원', '건국대학교병원', '서울적십자병원', '서울성모병원응급의료센터',\n",
       "       '가톨릭대학교여의도성모병원', '씨엠병원'], dtype=object)"
      ]
     },
     "execution_count": 94,
     "metadata": {},
     "output_type": "execute_result"
    }
   ],
   "source": [
    "df_seoul_hospital['상호명'].unique() "
   ]
  },
  {
   "cell_type": "code",
   "execution_count": null,
   "id": "e0940d56",
   "metadata": {
    "ExecuteTime": {
     "end_time": "2023-01-06T07:26:39.891989Z",
     "start_time": "2023-01-06T07:26:39.891534Z"
    },
    "scrolled": true
   },
   "outputs": [],
   "source": [
    "plt.figure(figsize=(15,4))\n",
    "sns.countplot(data=df_seoul_hospital, x='시군구명',\n",
    "             order = df_seoul_hospital['시군구명'].value_counts().index)"
   ]
  },
  {
   "cell_type": "markdown",
   "id": "5fa79c38",
   "metadata": {},
   "source": [
    "## 특정지역만 보기"
   ]
  },
  {
   "cell_type": "code",
   "execution_count": null,
   "id": "6a384365",
   "metadata": {
    "ExecuteTime": {
     "end_time": "2023-01-06T07:26:39.893983Z",
     "start_time": "2023-01-06T07:26:39.893983Z"
    }
   },
   "outputs": [],
   "source": [
    "#서울에 있는 데이터의 위도와 경도를 봅니다.\n",
    "df_seoul = df[df['시도명']== '서울특별시'].copy()\n",
    "df_seoul.shape"
   ]
  },
  {
   "cell_type": "code",
   "execution_count": null,
   "id": "9f9f662a",
   "metadata": {
    "ExecuteTime": {
     "end_time": "2023-01-06T07:26:39.895041Z",
     "start_time": "2023-01-06T07:26:39.895041Z"
    },
    "scrolled": true
   },
   "outputs": [],
   "source": [
    "# seaborn 의 countplot 을 사용해서 위에서 만든 df_seoul 데이터프레임의 \n",
    "# 시군구명을 시각화합니다.\n",
    "df_seoul['시군구명'].value_counts().plot.barh(10,4)"
   ]
  },
  {
   "cell_type": "code",
   "execution_count": null,
   "id": "90a3236c",
   "metadata": {
    "ExecuteTime": {
     "end_time": "2023-01-06T07:26:39.897063Z",
     "start_time": "2023-01-06T07:26:39.897063Z"
    }
   },
   "outputs": [],
   "source": [
    "plt.figure(figsize = (10,10))\n",
    "sns.countplot(data = df_seoul, y = '시군구명')"
   ]
  },
  {
   "cell_type": "code",
   "execution_count": null,
   "id": "10f076cc",
   "metadata": {
    "ExecuteTime": {
     "end_time": "2023-01-06T07:26:39.898971Z",
     "start_time": "2023-01-06T07:26:39.898971Z"
    }
   },
   "outputs": [],
   "source": [
    "# pandas 의 plot.scatter 를 통해 경도와 위도를 표시해 봅니다.\n",
    "df_seoul[['경도','위도','시군구명']].plot.scatter(x='경도', y='위도', grid =True)"
   ]
  },
  {
   "cell_type": "code",
   "execution_count": null,
   "id": "a0e62980",
   "metadata": {
    "ExecuteTime": {
     "end_time": "2023-01-06T07:26:39.900965Z",
     "start_time": "2023-01-06T07:26:39.900965Z"
    }
   },
   "outputs": [],
   "source": [
    "# seaborn의 scatterplot을 통해 구별 경도와 위도를 표시해봅니다.\n",
    "plt.figure(figsize = (10,10))\n",
    "sns.scatterplot(data = df_seoul, x= '경도', y='위도',hue ='상권업종중분류명')"
   ]
  },
  {
   "cell_type": "code",
   "execution_count": null,
   "id": "e96ca853",
   "metadata": {
    "ExecuteTime": {
     "end_time": "2023-01-06T07:26:39.902960Z",
     "start_time": "2023-01-06T07:26:39.902960Z"
    }
   },
   "outputs": [],
   "source": [
    "sns.scatterplot(data = df, x= '경도', y='위도',hue ='시도명')"
   ]
  },
  {
   "cell_type": "markdown",
   "id": "e84ca5fc",
   "metadata": {},
   "source": [
    "## folium으로 지도활용하기"
   ]
  },
  {
   "cell_type": "code",
   "execution_count": 65,
   "id": "410ad15f",
   "metadata": {
    "ExecuteTime": {
     "end_time": "2023-01-06T07:28:27.623642Z",
     "start_time": "2023-01-06T07:28:27.610976Z"
    }
   },
   "outputs": [],
   "source": [
    "import folium"
   ]
  },
  {
   "cell_type": "code",
   "execution_count": 66,
   "id": "a075f811",
   "metadata": {
    "ExecuteTime": {
     "end_time": "2023-01-06T07:29:25.297091Z",
     "start_time": "2023-01-06T07:29:25.244422Z"
    }
   },
   "outputs": [
    {
     "data": {
      "text/html": [
       "<div style=\"width:100%;\"><div style=\"position:relative;width:100%;height:0;padding-bottom:60%;\"><span style=\"color:#565656\">Make this Notebook Trusted to load map: File -> Trust Notebook</span><iframe srcdoc=\"&lt;!DOCTYPE html&gt;\n",
       "&lt;html&gt;\n",
       "&lt;head&gt;\n",
       "    \n",
       "    &lt;meta http-equiv=&quot;content-type&quot; content=&quot;text/html; charset=UTF-8&quot; /&gt;\n",
       "    \n",
       "        &lt;script&gt;\n",
       "            L_NO_TOUCH = false;\n",
       "            L_DISABLE_3D = false;\n",
       "        &lt;/script&gt;\n",
       "    \n",
       "    &lt;style&gt;html, body {width: 100%;height: 100%;margin: 0;padding: 0;}&lt;/style&gt;\n",
       "    &lt;style&gt;#map {position:absolute;top:0;bottom:0;right:0;left:0;}&lt;/style&gt;\n",
       "    &lt;script src=&quot;https://cdn.jsdelivr.net/npm/leaflet@1.9.3/dist/leaflet.js&quot;&gt;&lt;/script&gt;\n",
       "    &lt;script src=&quot;https://code.jquery.com/jquery-1.12.4.min.js&quot;&gt;&lt;/script&gt;\n",
       "    &lt;script src=&quot;https://cdn.jsdelivr.net/npm/bootstrap@5.2.2/dist/js/bootstrap.bundle.min.js&quot;&gt;&lt;/script&gt;\n",
       "    &lt;script src=&quot;https://cdnjs.cloudflare.com/ajax/libs/Leaflet.awesome-markers/2.0.2/leaflet.awesome-markers.js&quot;&gt;&lt;/script&gt;\n",
       "    &lt;link rel=&quot;stylesheet&quot; href=&quot;https://cdn.jsdelivr.net/npm/leaflet@1.9.3/dist/leaflet.css&quot;/&gt;\n",
       "    &lt;link rel=&quot;stylesheet&quot; href=&quot;https://cdn.jsdelivr.net/npm/bootstrap@5.2.2/dist/css/bootstrap.min.css&quot;/&gt;\n",
       "    &lt;link rel=&quot;stylesheet&quot; href=&quot;https://netdna.bootstrapcdn.com/bootstrap/3.0.0/css/bootstrap.min.css&quot;/&gt;\n",
       "    &lt;link rel=&quot;stylesheet&quot; href=&quot;https://cdn.jsdelivr.net/npm/@fortawesome/fontawesome-free@6.2.0/css/all.min.css&quot;/&gt;\n",
       "    &lt;link rel=&quot;stylesheet&quot; href=&quot;https://cdnjs.cloudflare.com/ajax/libs/Leaflet.awesome-markers/2.0.2/leaflet.awesome-markers.css&quot;/&gt;\n",
       "    &lt;link rel=&quot;stylesheet&quot; href=&quot;https://cdn.jsdelivr.net/gh/python-visualization/folium/folium/templates/leaflet.awesome.rotate.min.css&quot;/&gt;\n",
       "    \n",
       "            &lt;meta name=&quot;viewport&quot; content=&quot;width=device-width,\n",
       "                initial-scale=1.0, maximum-scale=1.0, user-scalable=no&quot; /&gt;\n",
       "            &lt;style&gt;\n",
       "                #map_daafece29f805dab0257d03743c7c234 {\n",
       "                    position: relative;\n",
       "                    width: 100.0%;\n",
       "                    height: 100.0%;\n",
       "                    left: 0.0%;\n",
       "                    top: 0.0%;\n",
       "                }\n",
       "                .leaflet-container { font-size: 1rem; }\n",
       "            &lt;/style&gt;\n",
       "        \n",
       "&lt;/head&gt;\n",
       "&lt;body&gt;\n",
       "    \n",
       "    \n",
       "            &lt;div class=&quot;folium-map&quot; id=&quot;map_daafece29f805dab0257d03743c7c234&quot; &gt;&lt;/div&gt;\n",
       "        \n",
       "&lt;/body&gt;\n",
       "&lt;script&gt;\n",
       "    \n",
       "    \n",
       "            var map_daafece29f805dab0257d03743c7c234 = L.map(\n",
       "                &quot;map_daafece29f805dab0257d03743c7c234&quot;,\n",
       "                {\n",
       "                    center: [0, 0],\n",
       "                    crs: L.CRS.EPSG3857,\n",
       "                    zoom: 1,\n",
       "                    zoomControl: true,\n",
       "                    preferCanvas: false,\n",
       "                }\n",
       "            );\n",
       "\n",
       "            \n",
       "\n",
       "        \n",
       "    \n",
       "            var tile_layer_f3f1a09aa56711ab8612a5760a9ceeb2 = L.tileLayer(\n",
       "                &quot;https://{s}.tile.openstreetmap.org/{z}/{x}/{y}.png&quot;,\n",
       "                {&quot;attribution&quot;: &quot;Data by \\u0026copy; \\u003ca target=\\&quot;_blank\\&quot; href=\\&quot;http://openstreetmap.org\\&quot;\\u003eOpenStreetMap\\u003c/a\\u003e, under \\u003ca target=\\&quot;_blank\\&quot; href=\\&quot;http://www.openstreetmap.org/copyright\\&quot;\\u003eODbL\\u003c/a\\u003e.&quot;, &quot;detectRetina&quot;: false, &quot;maxNativeZoom&quot;: 18, &quot;maxZoom&quot;: 18, &quot;minZoom&quot;: 0, &quot;noWrap&quot;: false, &quot;opacity&quot;: 1, &quot;subdomains&quot;: &quot;abc&quot;, &quot;tms&quot;: false}\n",
       "            ).addTo(map_daafece29f805dab0257d03743c7c234);\n",
       "        \n",
       "&lt;/script&gt;\n",
       "&lt;/html&gt;\" style=\"position:absolute;width:100%;height:100%;left:0;top:0;border:none !important;\" allowfullscreen webkitallowfullscreen mozallowfullscreen></iframe></div></div>"
      ],
      "text/plain": [
       "<folium.folium.Map at 0x18d41837ee0>"
      ]
     },
     "execution_count": 66,
     "metadata": {},
     "output_type": "execute_result"
    }
   ],
   "source": [
    "folium.Map()"
   ]
  },
  {
   "cell_type": "code",
   "execution_count": 67,
   "id": "0a67b03d",
   "metadata": {
    "ExecuteTime": {
     "end_time": "2023-01-06T07:31:50.970593Z",
     "start_time": "2023-01-06T07:31:50.960474Z"
    }
   },
   "outputs": [
    {
     "data": {
      "text/plain": [
       "37.54244715615384"
      ]
     },
     "execution_count": 67,
     "metadata": {},
     "output_type": "execute_result"
    }
   ],
   "source": [
    "df_seoul_hospital['위도'].mean()"
   ]
  },
  {
   "cell_type": "code",
   "execution_count": 68,
   "id": "1d50f0a6",
   "metadata": {
    "ExecuteTime": {
     "end_time": "2023-01-06T07:32:03.587826Z",
     "start_time": "2023-01-06T07:32:03.578270Z"
    }
   },
   "outputs": [
    {
     "data": {
      "text/plain": [
       "127.00850537362635"
      ]
     },
     "execution_count": 68,
     "metadata": {},
     "output_type": "execute_result"
    }
   ],
   "source": [
    "df_seoul_hospital['경도'].mean()"
   ]
  },
  {
   "cell_type": "code",
   "execution_count": 71,
   "id": "7e908b80",
   "metadata": {
    "ExecuteTime": {
     "end_time": "2023-01-06T07:34:08.057970Z",
     "start_time": "2023-01-06T07:34:08.006368Z"
    }
   },
   "outputs": [
    {
     "data": {
      "text/html": [
       "<div>\n",
       "<style scoped>\n",
       "    .dataframe tbody tr th:only-of-type {\n",
       "        vertical-align: middle;\n",
       "    }\n",
       "\n",
       "    .dataframe tbody tr th {\n",
       "        vertical-align: top;\n",
       "    }\n",
       "\n",
       "    .dataframe thead th {\n",
       "        text-align: right;\n",
       "    }\n",
       "</style>\n",
       "<table border=\"1\" class=\"dataframe\">\n",
       "  <thead>\n",
       "    <tr style=\"text-align: right;\">\n",
       "      <th></th>\n",
       "      <th>상가업소번호</th>\n",
       "      <th>상호명</th>\n",
       "      <th>지점명</th>\n",
       "      <th>상권업종대분류코드</th>\n",
       "      <th>상권업종대분류명</th>\n",
       "      <th>상권업종중분류코드</th>\n",
       "      <th>상권업종중분류명</th>\n",
       "      <th>상권업종소분류코드</th>\n",
       "      <th>상권업종소분류명</th>\n",
       "      <th>표준산업분류코드</th>\n",
       "      <th>...</th>\n",
       "      <th>건물관리번호</th>\n",
       "      <th>건물명</th>\n",
       "      <th>도로명주소</th>\n",
       "      <th>구우편번호</th>\n",
       "      <th>신우편번호</th>\n",
       "      <th>동정보</th>\n",
       "      <th>층정보</th>\n",
       "      <th>호정보</th>\n",
       "      <th>경도</th>\n",
       "      <th>위도</th>\n",
       "    </tr>\n",
       "  </thead>\n",
       "  <tbody>\n",
       "    <tr>\n",
       "      <th>305</th>\n",
       "      <td>25155642</td>\n",
       "      <td>대진의료재단</td>\n",
       "      <td>NaN</td>\n",
       "      <td>S</td>\n",
       "      <td>의료</td>\n",
       "      <td>S01</td>\n",
       "      <td>병원</td>\n",
       "      <td>S01B01</td>\n",
       "      <td>종합병원</td>\n",
       "      <td>Q86101</td>\n",
       "      <td>...</td>\n",
       "      <td>1.120000e+24</td>\n",
       "      <td>재단법인대순진리회</td>\n",
       "      <td>서울특별시 광진구 긴고랑로 119</td>\n",
       "      <td>143220.0</td>\n",
       "      <td>4944.0</td>\n",
       "      <td>NaN</td>\n",
       "      <td>NaN</td>\n",
       "      <td>NaN</td>\n",
       "      <td>127.088279</td>\n",
       "      <td>37.559048</td>\n",
       "    </tr>\n",
       "  </tbody>\n",
       "</table>\n",
       "<p>1 rows × 39 columns</p>\n",
       "</div>"
      ],
      "text/plain": [
       "       상가업소번호     상호명  지점명 상권업종대분류코드 상권업종대분류명 상권업종중분류코드 상권업종중분류명 상권업종소분류코드  \\\n",
       "305  25155642  대진의료재단  NaN         S       의료       S01       병원    S01B01   \n",
       "\n",
       "    상권업종소분류명 표준산업분류코드  ...        건물관리번호        건물명               도로명주소  \\\n",
       "305     종합병원   Q86101  ...  1.120000e+24  재단법인대순진리회  서울특별시 광진구 긴고랑로 119   \n",
       "\n",
       "        구우편번호   신우편번호  동정보 층정보  호정보          경도         위도  \n",
       "305  143220.0  4944.0  NaN NaN  NaN  127.088279  37.559048  \n",
       "\n",
       "[1 rows x 39 columns]"
      ]
     },
     "execution_count": 71,
     "metadata": {},
     "output_type": "execute_result"
    }
   ],
   "source": [
    "df_seoul_hospital.head(1)"
   ]
  },
  {
   "cell_type": "code",
   "execution_count": 95,
   "id": "3fb9704b",
   "metadata": {
    "ExecuteTime": {
     "end_time": "2023-01-06T07:51:59.449260Z",
     "start_time": "2023-01-06T07:51:59.321089Z"
    }
   },
   "outputs": [
    {
     "data": {
      "text/html": [
       "<div style=\"width:100%;\"><div style=\"position:relative;width:100%;height:0;padding-bottom:60%;\"><span style=\"color:#565656\">Make this Notebook Trusted to load map: File -> Trust Notebook</span><iframe srcdoc=\"&lt;!DOCTYPE html&gt;\n",
       "&lt;html&gt;\n",
       "&lt;head&gt;\n",
       "    \n",
       "    &lt;meta http-equiv=&quot;content-type&quot; content=&quot;text/html; charset=UTF-8&quot; /&gt;\n",
       "    \n",
       "        &lt;script&gt;\n",
       "            L_NO_TOUCH = false;\n",
       "            L_DISABLE_3D = false;\n",
       "        &lt;/script&gt;\n",
       "    \n",
       "    &lt;style&gt;html, body {width: 100%;height: 100%;margin: 0;padding: 0;}&lt;/style&gt;\n",
       "    &lt;style&gt;#map {position:absolute;top:0;bottom:0;right:0;left:0;}&lt;/style&gt;\n",
       "    &lt;script src=&quot;https://cdn.jsdelivr.net/npm/leaflet@1.9.3/dist/leaflet.js&quot;&gt;&lt;/script&gt;\n",
       "    &lt;script src=&quot;https://code.jquery.com/jquery-1.12.4.min.js&quot;&gt;&lt;/script&gt;\n",
       "    &lt;script src=&quot;https://cdn.jsdelivr.net/npm/bootstrap@5.2.2/dist/js/bootstrap.bundle.min.js&quot;&gt;&lt;/script&gt;\n",
       "    &lt;script src=&quot;https://cdnjs.cloudflare.com/ajax/libs/Leaflet.awesome-markers/2.0.2/leaflet.awesome-markers.js&quot;&gt;&lt;/script&gt;\n",
       "    &lt;link rel=&quot;stylesheet&quot; href=&quot;https://cdn.jsdelivr.net/npm/leaflet@1.9.3/dist/leaflet.css&quot;/&gt;\n",
       "    &lt;link rel=&quot;stylesheet&quot; href=&quot;https://cdn.jsdelivr.net/npm/bootstrap@5.2.2/dist/css/bootstrap.min.css&quot;/&gt;\n",
       "    &lt;link rel=&quot;stylesheet&quot; href=&quot;https://netdna.bootstrapcdn.com/bootstrap/3.0.0/css/bootstrap.min.css&quot;/&gt;\n",
       "    &lt;link rel=&quot;stylesheet&quot; href=&quot;https://cdn.jsdelivr.net/npm/@fortawesome/fontawesome-free@6.2.0/css/all.min.css&quot;/&gt;\n",
       "    &lt;link rel=&quot;stylesheet&quot; href=&quot;https://cdnjs.cloudflare.com/ajax/libs/Leaflet.awesome-markers/2.0.2/leaflet.awesome-markers.css&quot;/&gt;\n",
       "    &lt;link rel=&quot;stylesheet&quot; href=&quot;https://cdn.jsdelivr.net/gh/python-visualization/folium/folium/templates/leaflet.awesome.rotate.min.css&quot;/&gt;\n",
       "    \n",
       "            &lt;meta name=&quot;viewport&quot; content=&quot;width=device-width,\n",
       "                initial-scale=1.0, maximum-scale=1.0, user-scalable=no&quot; /&gt;\n",
       "            &lt;style&gt;\n",
       "                #map_c4ac511d90062240e5d35f13cb0f2b6f {\n",
       "                    position: relative;\n",
       "                    width: 100.0%;\n",
       "                    height: 100.0%;\n",
       "                    left: 0.0%;\n",
       "                    top: 0.0%;\n",
       "                }\n",
       "                .leaflet-container { font-size: 1rem; }\n",
       "            &lt;/style&gt;\n",
       "        \n",
       "&lt;/head&gt;\n",
       "&lt;body&gt;\n",
       "    \n",
       "    \n",
       "            &lt;div class=&quot;folium-map&quot; id=&quot;map_c4ac511d90062240e5d35f13cb0f2b6f&quot; &gt;&lt;/div&gt;\n",
       "        \n",
       "&lt;/body&gt;\n",
       "&lt;script&gt;\n",
       "    \n",
       "    \n",
       "            var map_c4ac511d90062240e5d35f13cb0f2b6f = L.map(\n",
       "                &quot;map_c4ac511d90062240e5d35f13cb0f2b6f&quot;,\n",
       "                {\n",
       "                    center: [37.5268660028125, 127.00673892187498],\n",
       "                    crs: L.CRS.EPSG3857,\n",
       "                    zoom: 12,\n",
       "                    zoomControl: true,\n",
       "                    preferCanvas: false,\n",
       "                }\n",
       "            );\n",
       "\n",
       "            \n",
       "\n",
       "        \n",
       "    \n",
       "            var tile_layer_9364f117a71029b602fcf29729ee0961 = L.tileLayer(\n",
       "                &quot;https://{s}.tile.openstreetmap.org/{z}/{x}/{y}.png&quot;,\n",
       "                {&quot;attribution&quot;: &quot;Data by \\u0026copy; \\u003ca target=\\&quot;_blank\\&quot; href=\\&quot;http://openstreetmap.org\\&quot;\\u003eOpenStreetMap\\u003c/a\\u003e, under \\u003ca target=\\&quot;_blank\\&quot; href=\\&quot;http://www.openstreetmap.org/copyright\\&quot;\\u003eODbL\\u003c/a\\u003e.&quot;, &quot;detectRetina&quot;: false, &quot;maxNativeZoom&quot;: 18, &quot;maxZoom&quot;: 18, &quot;minZoom&quot;: 0, &quot;noWrap&quot;: false, &quot;opacity&quot;: 1, &quot;subdomains&quot;: &quot;abc&quot;, &quot;tms&quot;: false}\n",
       "            ).addTo(map_c4ac511d90062240e5d35f13cb0f2b6f);\n",
       "        \n",
       "    \n",
       "            var marker_d50945c0d7538e74424a78070084a819 = L.marker(\n",
       "                [37.49963027, 127.0358248],\n",
       "                {}\n",
       "            ).addTo(map_c4ac511d90062240e5d35f13cb0f2b6f);\n",
       "        \n",
       "    \n",
       "        var popup_9022e18d62a0811417a6ed97b4b03ee1 = L.popup({&quot;maxWidth&quot;: &quot;100%&quot;});\n",
       "\n",
       "        \n",
       "            \n",
       "                var html_c657efbbbc40c231b7fd31b662cb3b41 = $(`&lt;div id=&quot;html_c657efbbbc40c231b7fd31b662cb3b41&quot; style=&quot;width: 100.0%; height: 100.0%;&quot;&gt;SNUH-서울특별시 강남구 테헤란로26길 10&lt;/div&gt;`)[0];\n",
       "                popup_9022e18d62a0811417a6ed97b4b03ee1.setContent(html_c657efbbbc40c231b7fd31b662cb3b41);\n",
       "            \n",
       "        \n",
       "\n",
       "        marker_d50945c0d7538e74424a78070084a819.bindPopup(popup_9022e18d62a0811417a6ed97b4b03ee1)\n",
       "        ;\n",
       "\n",
       "        \n",
       "    \n",
       "    \n",
       "            var marker_757f45a51a889d4284dc720f6bf575ad = L.marker(\n",
       "                [37.5594688, 127.0413247],\n",
       "                {}\n",
       "            ).addTo(map_c4ac511d90062240e5d35f13cb0f2b6f);\n",
       "        \n",
       "    \n",
       "        var popup_cfb6af26d65e9a6402c90f10ed4a491f = L.popup({&quot;maxWidth&quot;: &quot;100%&quot;});\n",
       "\n",
       "        \n",
       "            \n",
       "                var html_b663097a4af24c417f1fd72aef9b6b6f = $(`&lt;div id=&quot;html_b663097a4af24c417f1fd72aef9b6b6f&quot; style=&quot;width: 100.0%; height: 100.0%;&quot;&gt;한양-서울특별시 성동구 마조로 22-2&lt;/div&gt;`)[0];\n",
       "                popup_cfb6af26d65e9a6402c90f10ed4a491f.setContent(html_b663097a4af24c417f1fd72aef9b6b6f);\n",
       "            \n",
       "        \n",
       "\n",
       "        marker_757f45a51a889d4284dc720f6bf575ad.bindPopup(popup_cfb6af26d65e9a6402c90f10ed4a491f)\n",
       "        ;\n",
       "\n",
       "        \n",
       "    \n",
       "    \n",
       "            var marker_1ceef67154377894cb712be5a0cf8f0d = L.marker(\n",
       "                [37.52846088, 127.1479142],\n",
       "                {}\n",
       "            ).addTo(map_c4ac511d90062240e5d35f13cb0f2b6f);\n",
       "        \n",
       "    \n",
       "        var popup_ebff9644d96e09fb0b60d49eda5af73b = L.popup({&quot;maxWidth&quot;: &quot;100%&quot;});\n",
       "\n",
       "        \n",
       "            \n",
       "                var html_2e8f17d5db304b41c291ce673c33acd0 = $(`&lt;div id=&quot;html_2e8f17d5db304b41c291ce673c33acd0&quot; style=&quot;width: 100.0%; height: 100.0%;&quot;&gt;서울보훈병원-서울특별시 강동구 진황도로61길 53&lt;/div&gt;`)[0];\n",
       "                popup_ebff9644d96e09fb0b60d49eda5af73b.setContent(html_2e8f17d5db304b41c291ce673c33acd0);\n",
       "            \n",
       "        \n",
       "\n",
       "        marker_1ceef67154377894cb712be5a0cf8f0d.bindPopup(popup_ebff9644d96e09fb0b60d49eda5af73b)\n",
       "        ;\n",
       "\n",
       "        \n",
       "    \n",
       "    \n",
       "            var marker_822c626816beba614b88ec875e588f60 = L.marker(\n",
       "                [37.50001411, 127.0364871],\n",
       "                {}\n",
       "            ).addTo(map_c4ac511d90062240e5d35f13cb0f2b6f);\n",
       "        \n",
       "    \n",
       "        var popup_550509b5c7f237593ca8b6a893ee980f = L.popup({&quot;maxWidth&quot;: &quot;100%&quot;});\n",
       "\n",
       "        \n",
       "            \n",
       "                var html_08c537fb94fced096fed2fb56f12060e = $(`&lt;div id=&quot;html_08c537fb94fced096fed2fb56f12060e&quot; style=&quot;width: 100.0%; height: 100.0%;&quot;&gt;서울대학교병원-서울특별시 강남구 테헤란로 152&lt;/div&gt;`)[0];\n",
       "                popup_550509b5c7f237593ca8b6a893ee980f.setContent(html_08c537fb94fced096fed2fb56f12060e);\n",
       "            \n",
       "        \n",
       "\n",
       "        marker_822c626816beba614b88ec875e588f60.bindPopup(popup_550509b5c7f237593ca8b6a893ee980f)\n",
       "        ;\n",
       "\n",
       "        \n",
       "    \n",
       "    \n",
       "            var marker_73b7ed2d11f1183660dc70b731c32d8e = L.marker(\n",
       "                [37.56170879, 126.9996198],\n",
       "                {}\n",
       "            ).addTo(map_c4ac511d90062240e5d35f13cb0f2b6f);\n",
       "        \n",
       "    \n",
       "        var popup_e04c15b3817bce307afa15c7ec30c68f = L.popup({&quot;maxWidth&quot;: &quot;100%&quot;});\n",
       "\n",
       "        \n",
       "            \n",
       "                var html_aca2afd26b20f8df0e72d1a08a69abcd = $(`&lt;div id=&quot;html_aca2afd26b20f8df0e72d1a08a69abcd&quot; style=&quot;width: 100.0%; height: 100.0%;&quot;&gt;제일병원-서울특별시 중구 서애로1길 17&lt;/div&gt;`)[0];\n",
       "                popup_e04c15b3817bce307afa15c7ec30c68f.setContent(html_aca2afd26b20f8df0e72d1a08a69abcd);\n",
       "            \n",
       "        \n",
       "\n",
       "        marker_73b7ed2d11f1183660dc70b731c32d8e.bindPopup(popup_e04c15b3817bce307afa15c7ec30c68f)\n",
       "        ;\n",
       "\n",
       "        \n",
       "    \n",
       "    \n",
       "            var marker_230f79d0ca97d4e1af040a4d6e5f5925 = L.marker(\n",
       "                [37.52524765, 127.1093153],\n",
       "                {}\n",
       "            ).addTo(map_c4ac511d90062240e5d35f13cb0f2b6f);\n",
       "        \n",
       "    \n",
       "        var popup_e799434a14b9c1194ffcf5bf1e0f000d = L.popup({&quot;maxWidth&quot;: &quot;100%&quot;});\n",
       "\n",
       "        \n",
       "            \n",
       "                var html_0684d53422e9afca5b30b3d85cd34a91 = $(`&lt;div id=&quot;html_0684d53422e9afca5b30b3d85cd34a91&quot; style=&quot;width: 100.0%; height: 100.0%;&quot;&gt;서울아산병원신관-서울특별시 송파구 올림픽로43길 88&lt;/div&gt;`)[0];\n",
       "                popup_e799434a14b9c1194ffcf5bf1e0f000d.setContent(html_0684d53422e9afca5b30b3d85cd34a91);\n",
       "            \n",
       "        \n",
       "\n",
       "        marker_230f79d0ca97d4e1af040a4d6e5f5925.bindPopup(popup_e799434a14b9c1194ffcf5bf1e0f000d)\n",
       "        ;\n",
       "\n",
       "        \n",
       "    \n",
       "    \n",
       "            var marker_3960cb26ebe79f263d45bed304154331 = L.marker(\n",
       "                [37.49120853, 126.8846634],\n",
       "                {}\n",
       "            ).addTo(map_c4ac511d90062240e5d35f13cb0f2b6f);\n",
       "        \n",
       "    \n",
       "        var popup_ae0189174121c8cd8a42eef9a7cbdc86 = L.popup({&quot;maxWidth&quot;: &quot;100%&quot;});\n",
       "\n",
       "        \n",
       "            \n",
       "                var html_db3321af0f16edb52aeac7b26e604fc8 = $(`&lt;div id=&quot;html_db3321af0f16edb52aeac7b26e604fc8&quot; style=&quot;width: 100.0%; height: 100.0%;&quot;&gt;고려대학교구로병원-서울특별시 구로구 구로동로 148&lt;/div&gt;`)[0];\n",
       "                popup_ae0189174121c8cd8a42eef9a7cbdc86.setContent(html_db3321af0f16edb52aeac7b26e604fc8);\n",
       "            \n",
       "        \n",
       "\n",
       "        marker_3960cb26ebe79f263d45bed304154331.bindPopup(popup_ae0189174121c8cd8a42eef9a7cbdc86)\n",
       "        ;\n",
       "\n",
       "        \n",
       "    \n",
       "    \n",
       "            var marker_843b77a760c2ed3b2748d602ac6a36d4 = L.marker(\n",
       "                [37.45442081, 126.901237],\n",
       "                {}\n",
       "            ).addTo(map_c4ac511d90062240e5d35f13cb0f2b6f);\n",
       "        \n",
       "    \n",
       "        var popup_be579dae3bcb6625bab821b50d6d8ede = L.popup({&quot;maxWidth&quot;: &quot;100%&quot;});\n",
       "\n",
       "        \n",
       "            \n",
       "                var html_6e880ac8eb2a774951f157b695329f34 = $(`&lt;div id=&quot;html_6e880ac8eb2a774951f157b695329f34&quot; style=&quot;width: 100.0%; height: 100.0%;&quot;&gt;희명스포츠의학센터인공신장실-서울특별시 금천구 시흥대로 230&lt;/div&gt;`)[0];\n",
       "                popup_be579dae3bcb6625bab821b50d6d8ede.setContent(html_6e880ac8eb2a774951f157b695329f34);\n",
       "            \n",
       "        \n",
       "\n",
       "        marker_843b77a760c2ed3b2748d602ac6a36d4.bindPopup(popup_be579dae3bcb6625bab821b50d6d8ede)\n",
       "        ;\n",
       "\n",
       "        \n",
       "    \n",
       "    \n",
       "            var marker_facad7fb0a3bd0d554553b7a571f38f0 = L.marker(\n",
       "                [37.49279514, 127.0462939],\n",
       "                {}\n",
       "            ).addTo(map_c4ac511d90062240e5d35f13cb0f2b6f);\n",
       "        \n",
       "    \n",
       "        var popup_eecaa957c91ee4ac4f93cb9d806cd9d4 = L.popup({&quot;maxWidth&quot;: &quot;100%&quot;});\n",
       "\n",
       "        \n",
       "            \n",
       "                var html_83104ad271199743d5372f10f199aad8 = $(`&lt;div id=&quot;html_83104ad271199743d5372f10f199aad8&quot; style=&quot;width: 100.0%; height: 100.0%;&quot;&gt;연세대학교의과대학강남세브란스-서울특별시 강남구 언주로 211&lt;/div&gt;`)[0];\n",
       "                popup_eecaa957c91ee4ac4f93cb9d806cd9d4.setContent(html_83104ad271199743d5372f10f199aad8);\n",
       "            \n",
       "        \n",
       "\n",
       "        marker_facad7fb0a3bd0d554553b7a571f38f0.bindPopup(popup_eecaa957c91ee4ac4f93cb9d806cd9d4)\n",
       "        ;\n",
       "\n",
       "        \n",
       "    \n",
       "    \n",
       "            var marker_f20e6c8276de8b04cd0458d36c0c21e8 = L.marker(\n",
       "                [37.56531388, 127.0864372],\n",
       "                {}\n",
       "            ).addTo(map_c4ac511d90062240e5d35f13cb0f2b6f);\n",
       "        \n",
       "    \n",
       "        var popup_dfb70c646b040c12c55129de54ce981e = L.popup({&quot;maxWidth&quot;: &quot;100%&quot;});\n",
       "\n",
       "        \n",
       "            \n",
       "                var html_4191b5722fc1661d7b1d5003a76605dd = $(`&lt;div id=&quot;html_4191b5722fc1661d7b1d5003a76605dd&quot; style=&quot;width: 100.0%; height: 100.0%;&quot;&gt;국립정신병원-서울특별시 광진구 능동로 398&lt;/div&gt;`)[0];\n",
       "                popup_dfb70c646b040c12c55129de54ce981e.setContent(html_4191b5722fc1661d7b1d5003a76605dd);\n",
       "            \n",
       "        \n",
       "\n",
       "        marker_f20e6c8276de8b04cd0458d36c0c21e8.bindPopup(popup_dfb70c646b040c12c55129de54ce981e)\n",
       "        ;\n",
       "\n",
       "        \n",
       "    \n",
       "    \n",
       "            var marker_15370d802f5edd5bf3437cb2f3d39318 = L.marker(\n",
       "                [37.64667917, 127.0290431],\n",
       "                {}\n",
       "            ).addTo(map_c4ac511d90062240e5d35f13cb0f2b6f);\n",
       "        \n",
       "    \n",
       "        var popup_3dd2dea7259cfb1d7acd358c9fc8dc7a = L.popup({&quot;maxWidth&quot;: &quot;100%&quot;});\n",
       "\n",
       "        \n",
       "            \n",
       "                var html_7e7358051673751441b30a74dac4a343 = $(`&lt;div id=&quot;html_7e7358051673751441b30a74dac4a343&quot; style=&quot;width: 100.0%; height: 100.0%;&quot;&gt;한국전력공사부속한일병원-서울특별시 도봉구 우이천로 308&lt;/div&gt;`)[0];\n",
       "                popup_3dd2dea7259cfb1d7acd358c9fc8dc7a.setContent(html_7e7358051673751441b30a74dac4a343);\n",
       "            \n",
       "        \n",
       "\n",
       "        marker_15370d802f5edd5bf3437cb2f3d39318.bindPopup(popup_3dd2dea7259cfb1d7acd358c9fc8dc7a)\n",
       "        ;\n",
       "\n",
       "        \n",
       "    \n",
       "    \n",
       "            var marker_95b3fdb917a77172328b537e63115968 = L.marker(\n",
       "                [37.55235135, 126.934217],\n",
       "                {}\n",
       "            ).addTo(map_c4ac511d90062240e5d35f13cb0f2b6f);\n",
       "        \n",
       "    \n",
       "        var popup_412d68008ec80d53567df753f45fa843 = L.popup({&quot;maxWidth&quot;: &quot;100%&quot;});\n",
       "\n",
       "        \n",
       "            \n",
       "                var html_fe77c4db51fd2011e816e3213ab4a77f = $(`&lt;div id=&quot;html_fe77c4db51fd2011e816e3213ab4a77f&quot; style=&quot;width: 100.0%; height: 100.0%;&quot;&gt;신촌연세병원-서울특별시 마포구 서강로14길 14&lt;/div&gt;`)[0];\n",
       "                popup_412d68008ec80d53567df753f45fa843.setContent(html_fe77c4db51fd2011e816e3213ab4a77f);\n",
       "            \n",
       "        \n",
       "\n",
       "        marker_95b3fdb917a77172328b537e63115968.bindPopup(popup_412d68008ec80d53567df753f45fa843)\n",
       "        ;\n",
       "\n",
       "        \n",
       "    \n",
       "    \n",
       "            var marker_76ab6f9fa97ccac888dd6c0d84c14349 = L.marker(\n",
       "                [37.49279514, 127.0462939],\n",
       "                {}\n",
       "            ).addTo(map_c4ac511d90062240e5d35f13cb0f2b6f);\n",
       "        \n",
       "    \n",
       "        var popup_295e78697b6dfc6114a59a6734d473d9 = L.popup({&quot;maxWidth&quot;: &quot;100%&quot;});\n",
       "\n",
       "        \n",
       "            \n",
       "                var html_cde0b068ccd28983c2c30c7de9422d6f = $(`&lt;div id=&quot;html_cde0b068ccd28983c2c30c7de9422d6f&quot; style=&quot;width: 100.0%; height: 100.0%;&quot;&gt;영동세브란스병원-서울특별시 강남구 언주로 211&lt;/div&gt;`)[0];\n",
       "                popup_295e78697b6dfc6114a59a6734d473d9.setContent(html_cde0b068ccd28983c2c30c7de9422d6f);\n",
       "            \n",
       "        \n",
       "\n",
       "        marker_76ab6f9fa97ccac888dd6c0d84c14349.bindPopup(popup_295e78697b6dfc6114a59a6734d473d9)\n",
       "        ;\n",
       "\n",
       "        \n",
       "    \n",
       "    \n",
       "            var marker_d492191264a3a61459f85d8526ed48b9 = L.marker(\n",
       "                [37.49299992, 126.924318],\n",
       "                {}\n",
       "            ).addTo(map_c4ac511d90062240e5d35f13cb0f2b6f);\n",
       "        \n",
       "    \n",
       "        var popup_aaf2f41615817c92acb9446a0bd5f3a4 = L.popup({&quot;maxWidth&quot;: &quot;100%&quot;});\n",
       "\n",
       "        \n",
       "            \n",
       "                var html_28e6121b03a227ccdd322139472bdf20 = $(`&lt;div id=&quot;html_28e6121b03a227ccdd322139472bdf20&quot; style=&quot;width: 100.0%; height: 100.0%;&quot;&gt;서울시립보라매병원-서울특별시 동작구 보라매로5길 20&lt;/div&gt;`)[0];\n",
       "                popup_aaf2f41615817c92acb9446a0bd5f3a4.setContent(html_28e6121b03a227ccdd322139472bdf20);\n",
       "            \n",
       "        \n",
       "\n",
       "        marker_d492191264a3a61459f85d8526ed48b9.bindPopup(popup_aaf2f41615817c92acb9446a0bd5f3a4)\n",
       "        ;\n",
       "\n",
       "        \n",
       "    \n",
       "    \n",
       "            var marker_cad1c8787dbe8686c4ff260593b615c5 = L.marker(\n",
       "                [37.50238224, 127.0058407],\n",
       "                {}\n",
       "            ).addTo(map_c4ac511d90062240e5d35f13cb0f2b6f);\n",
       "        \n",
       "    \n",
       "        var popup_83ff3a5a7d49772b8f3d9b96257f740d = L.popup({&quot;maxWidth&quot;: &quot;100%&quot;});\n",
       "\n",
       "        \n",
       "            \n",
       "                var html_de5cadc8af35190621d801e86419fe53 = $(`&lt;div id=&quot;html_de5cadc8af35190621d801e86419fe53&quot; style=&quot;width: 100.0%; height: 100.0%;&quot;&gt;평화드림서울성모병원의료-서울특별시 서초구 반포대로 222&lt;/div&gt;`)[0];\n",
       "                popup_83ff3a5a7d49772b8f3d9b96257f740d.setContent(html_de5cadc8af35190621d801e86419fe53);\n",
       "            \n",
       "        \n",
       "\n",
       "        marker_cad1c8787dbe8686c4ff260593b615c5.bindPopup(popup_83ff3a5a7d49772b8f3d9b96257f740d)\n",
       "        ;\n",
       "\n",
       "        \n",
       "    \n",
       "    \n",
       "            var marker_34b2aac38db43df8601fbbb4b87e86e5 = L.marker(\n",
       "                [37.52879781, 126.8636373],\n",
       "                {}\n",
       "            ).addTo(map_c4ac511d90062240e5d35f13cb0f2b6f);\n",
       "        \n",
       "    \n",
       "        var popup_8df87642c5f686aa6e3fe2e0f6158e62 = L.popup({&quot;maxWidth&quot;: &quot;100%&quot;});\n",
       "\n",
       "        \n",
       "            \n",
       "                var html_a0a051dad6dfcd4e4c774d721e835134 = $(`&lt;div id=&quot;html_a0a051dad6dfcd4e4c774d721e835134&quot; style=&quot;width: 100.0%; height: 100.0%;&quot;&gt;홍익병원-서울특별시 양천구 목동로 227&lt;/div&gt;`)[0];\n",
       "                popup_8df87642c5f686aa6e3fe2e0f6158e62.setContent(html_a0a051dad6dfcd4e4c774d721e835134);\n",
       "            \n",
       "        \n",
       "\n",
       "        marker_34b2aac38db43df8601fbbb4b87e86e5.bindPopup(popup_8df87642c5f686aa6e3fe2e0f6158e62)\n",
       "        ;\n",
       "\n",
       "        \n",
       "    \n",
       "    \n",
       "            var marker_a90b8687c18ea8d0d29b1fc0713b48b7 = L.marker(\n",
       "                [37.58486782, 127.0312165],\n",
       "                {}\n",
       "            ).addTo(map_c4ac511d90062240e5d35f13cb0f2b6f);\n",
       "        \n",
       "    \n",
       "        var popup_897b11a6c17afd85efc57492904cdc67 = L.popup({&quot;maxWidth&quot;: &quot;100%&quot;});\n",
       "\n",
       "        \n",
       "            \n",
       "                var html_ca21cdcb02c8bee793a801a600b0b7f1 = $(`&lt;div id=&quot;html_ca21cdcb02c8bee793a801a600b0b7f1&quot; style=&quot;width: 100.0%; height: 100.0%;&quot;&gt;우신향병원-서울특별시 성북구 안암로 99&lt;/div&gt;`)[0];\n",
       "                popup_897b11a6c17afd85efc57492904cdc67.setContent(html_ca21cdcb02c8bee793a801a600b0b7f1);\n",
       "            \n",
       "        \n",
       "\n",
       "        marker_a90b8687c18ea8d0d29b1fc0713b48b7.bindPopup(popup_897b11a6c17afd85efc57492904cdc67)\n",
       "        ;\n",
       "\n",
       "        \n",
       "    \n",
       "    \n",
       "            var marker_da35c000de0d64715c8559e226d02681 = L.marker(\n",
       "                [37.60082237, 127.1085963],\n",
       "                {}\n",
       "            ).addTo(map_c4ac511d90062240e5d35f13cb0f2b6f);\n",
       "        \n",
       "    \n",
       "        var popup_ced983e2c863504d226f69a81b9d8f86 = L.popup({&quot;maxWidth&quot;: &quot;100%&quot;});\n",
       "\n",
       "        \n",
       "            \n",
       "                var html_ce711f14801a462c396388a3c532906c = $(`&lt;div id=&quot;html_ce711f14801a462c396388a3c532906c&quot; style=&quot;width: 100.0%; height: 100.0%;&quot;&gt;동부제일병원-서울특별시 중랑구 양원역로 2&lt;/div&gt;`)[0];\n",
       "                popup_ced983e2c863504d226f69a81b9d8f86.setContent(html_ce711f14801a462c396388a3c532906c);\n",
       "            \n",
       "        \n",
       "\n",
       "        marker_da35c000de0d64715c8559e226d02681.bindPopup(popup_ced983e2c863504d226f69a81b9d8f86)\n",
       "        ;\n",
       "\n",
       "        \n",
       "    \n",
       "    \n",
       "            var marker_cb0320e622d41ac7a4545d59118b4bf5 = L.marker(\n",
       "                [37.516712, 127.1053896],\n",
       "                {}\n",
       "            ).addTo(map_c4ac511d90062240e5d35f13cb0f2b6f);\n",
       "        \n",
       "    \n",
       "        var popup_6b846a86fb7345d042f2cc9b6842ada2 = L.popup({&quot;maxWidth&quot;: &quot;100%&quot;});\n",
       "\n",
       "        \n",
       "            \n",
       "                var html_18eb5853a43520eb2158c99c4b359efc = $(`&lt;div id=&quot;html_18eb5853a43520eb2158c99c4b359efc&quot; style=&quot;width: 100.0%; height: 100.0%;&quot;&gt;한국건강관리협회서울특-서울특별시 송파구 오금로 58&lt;/div&gt;`)[0];\n",
       "                popup_6b846a86fb7345d042f2cc9b6842ada2.setContent(html_18eb5853a43520eb2158c99c4b359efc);\n",
       "            \n",
       "        \n",
       "\n",
       "        marker_cb0320e622d41ac7a4545d59118b4bf5.bindPopup(popup_6b846a86fb7345d042f2cc9b6842ada2)\n",
       "        ;\n",
       "\n",
       "        \n",
       "    \n",
       "    \n",
       "            var marker_61f7d5fb654aff76bca16a6531344894 = L.marker(\n",
       "                [37.48535529, 127.0377609],\n",
       "                {}\n",
       "            ).addTo(map_c4ac511d90062240e5d35f13cb0f2b6f);\n",
       "        \n",
       "    \n",
       "        var popup_a093add0256bb1e33f25c77d86d8c8ea = L.popup({&quot;maxWidth&quot;: &quot;100%&quot;});\n",
       "\n",
       "        \n",
       "            \n",
       "                var html_4fe83d4ad772bbc520faa7d945fb32ea = $(`&lt;div id=&quot;html_4fe83d4ad772bbc520faa7d945fb32ea&quot; style=&quot;width: 100.0%; height: 100.0%;&quot;&gt;성베드로병원-서울특별시 강남구 남부순환로 2633&lt;/div&gt;`)[0];\n",
       "                popup_a093add0256bb1e33f25c77d86d8c8ea.setContent(html_4fe83d4ad772bbc520faa7d945fb32ea);\n",
       "            \n",
       "        \n",
       "\n",
       "        marker_61f7d5fb654aff76bca16a6531344894.bindPopup(popup_a093add0256bb1e33f25c77d86d8c8ea)\n",
       "        ;\n",
       "\n",
       "        \n",
       "    \n",
       "    \n",
       "            var marker_56b796aea66c71bfca067e4109e54898 = L.marker(\n",
       "                [37.56482308, 126.988655],\n",
       "                {}\n",
       "            ).addTo(map_c4ac511d90062240e5d35f13cb0f2b6f);\n",
       "        \n",
       "    \n",
       "        var popup_8e06cc4c3299448d63895c47b8353c10 = L.popup({&quot;maxWidth&quot;: &quot;100%&quot;});\n",
       "\n",
       "        \n",
       "            \n",
       "                var html_a38065cba7beef3dd4d4f1642d419664 = $(`&lt;div id=&quot;html_a38065cba7beef3dd4d4f1642d419664&quot; style=&quot;width: 100.0%; height: 100.0%;&quot;&gt;인제대학교서울백병원-서울특별시 중구 마른내로 9&lt;/div&gt;`)[0];\n",
       "                popup_8e06cc4c3299448d63895c47b8353c10.setContent(html_a38065cba7beef3dd4d4f1642d419664);\n",
       "            \n",
       "        \n",
       "\n",
       "        marker_56b796aea66c71bfca067e4109e54898.bindPopup(popup_8e06cc4c3299448d63895c47b8353c10)\n",
       "        ;\n",
       "\n",
       "        \n",
       "    \n",
       "    \n",
       "            var marker_776cd845806dca2e784fcf8d4db7a675 = L.marker(\n",
       "                [37.47961758, 126.9562696],\n",
       "                {}\n",
       "            ).addTo(map_c4ac511d90062240e5d35f13cb0f2b6f);\n",
       "        \n",
       "    \n",
       "        var popup_f7571b5b55e38d1222f86da226d92e33 = L.popup({&quot;maxWidth&quot;: &quot;100%&quot;});\n",
       "\n",
       "        \n",
       "            \n",
       "                var html_90813689e2c692798d78ce401ea4288f = $(`&lt;div id=&quot;html_90813689e2c692798d78ce401ea4288f&quot; style=&quot;width: 100.0%; height: 100.0%;&quot;&gt;사랑의병원-서울특별시 관악구 남부순환로 1860&lt;/div&gt;`)[0];\n",
       "                popup_f7571b5b55e38d1222f86da226d92e33.setContent(html_90813689e2c692798d78ce401ea4288f);\n",
       "            \n",
       "        \n",
       "\n",
       "        marker_776cd845806dca2e784fcf8d4db7a675.bindPopup(popup_f7571b5b55e38d1222f86da226d92e33)\n",
       "        ;\n",
       "\n",
       "        \n",
       "    \n",
       "    \n",
       "            var marker_1569640458ba42d8ef7a33e2bb098f40 = L.marker(\n",
       "                [37.51880698, 126.903857],\n",
       "                {}\n",
       "            ).addTo(map_c4ac511d90062240e5d35f13cb0f2b6f);\n",
       "        \n",
       "    \n",
       "        var popup_f1f04751a8b621f832035a996414ff94 = L.popup({&quot;maxWidth&quot;: &quot;100%&quot;});\n",
       "\n",
       "        \n",
       "            \n",
       "                var html_bbccc2fb36273125682a97a5f59065a9 = $(`&lt;div id=&quot;html_bbccc2fb36273125682a97a5f59065a9&quot; style=&quot;width: 100.0%; height: 100.0%;&quot;&gt;씨엠충무병원-서울특별시 영등포구 영등포로36길 13&lt;/div&gt;`)[0];\n",
       "                popup_f1f04751a8b621f832035a996414ff94.setContent(html_bbccc2fb36273125682a97a5f59065a9);\n",
       "            \n",
       "        \n",
       "\n",
       "        marker_1569640458ba42d8ef7a33e2bb098f40.bindPopup(popup_f1f04751a8b621f832035a996414ff94)\n",
       "        ;\n",
       "\n",
       "        \n",
       "    \n",
       "    \n",
       "            var marker_f445ebbfc3be92c844a1d0004d1eea46 = L.marker(\n",
       "                [37.4884364, 127.1029678],\n",
       "                {}\n",
       "            ).addTo(map_c4ac511d90062240e5d35f13cb0f2b6f);\n",
       "        \n",
       "    \n",
       "        var popup_87227b56c7f912ab4d505a6006d602b9 = L.popup({&quot;maxWidth&quot;: &quot;100%&quot;});\n",
       "\n",
       "        \n",
       "            \n",
       "                var html_b41f2058d641605aaa2c8dc25f0a542f = $(`&lt;div id=&quot;html_b41f2058d641605aaa2c8dc25f0a542f&quot; style=&quot;width: 100.0%; height: 100.0%;&quot;&gt;강남센트럴병원-서울특별시 강남구 광평로51길 6-9&lt;/div&gt;`)[0];\n",
       "                popup_87227b56c7f912ab4d505a6006d602b9.setContent(html_b41f2058d641605aaa2c8dc25f0a542f);\n",
       "            \n",
       "        \n",
       "\n",
       "        marker_f445ebbfc3be92c844a1d0004d1eea46.bindPopup(popup_87227b56c7f912ab4d505a6006d602b9)\n",
       "        ;\n",
       "\n",
       "        \n",
       "    \n",
       "    \n",
       "            var marker_2a883af234f180227011a5e900ad8000 = L.marker(\n",
       "                [37.51908747, 127.0495906],\n",
       "                {}\n",
       "            ).addTo(map_c4ac511d90062240e5d35f13cb0f2b6f);\n",
       "        \n",
       "    \n",
       "        var popup_d06421b20fda3fa87b4daa461215d227 = L.popup({&quot;maxWidth&quot;: &quot;100%&quot;});\n",
       "\n",
       "        \n",
       "            \n",
       "                var html_98f2b21729b62dd2b21a3007c0edf72d = $(`&lt;div id=&quot;html_98f2b21729b62dd2b21a3007c0edf72d&quot; style=&quot;width: 100.0%; height: 100.0%;&quot;&gt;우리들병원-서울특별시 강남구 학동로 445&lt;/div&gt;`)[0];\n",
       "                popup_d06421b20fda3fa87b4daa461215d227.setContent(html_98f2b21729b62dd2b21a3007c0edf72d);\n",
       "            \n",
       "        \n",
       "\n",
       "        marker_2a883af234f180227011a5e900ad8000.bindPopup(popup_d06421b20fda3fa87b4daa461215d227)\n",
       "        ;\n",
       "\n",
       "        \n",
       "    \n",
       "    \n",
       "            var marker_2193353ae34ce42b96b680dd5c9b236e = L.marker(\n",
       "                [37.54122468, 127.0720432],\n",
       "                {}\n",
       "            ).addTo(map_c4ac511d90062240e5d35f13cb0f2b6f);\n",
       "        \n",
       "    \n",
       "        var popup_bb52fa8251ea9311f39f7d2c3375e971 = L.popup({&quot;maxWidth&quot;: &quot;100%&quot;});\n",
       "\n",
       "        \n",
       "            \n",
       "                var html_602658a90c9c7ef43accc67eacd8e971 = $(`&lt;div id=&quot;html_602658a90c9c7ef43accc67eacd8e971&quot; style=&quot;width: 100.0%; height: 100.0%;&quot;&gt;건국대학교병원-서울특별시 광진구 능동로 120-1&lt;/div&gt;`)[0];\n",
       "                popup_bb52fa8251ea9311f39f7d2c3375e971.setContent(html_602658a90c9c7ef43accc67eacd8e971);\n",
       "            \n",
       "        \n",
       "\n",
       "        marker_2193353ae34ce42b96b680dd5c9b236e.bindPopup(popup_bb52fa8251ea9311f39f7d2c3375e971)\n",
       "        ;\n",
       "\n",
       "        \n",
       "    \n",
       "    \n",
       "            var marker_eddee3cc02c08edf574e0b35c0d3df8e = L.marker(\n",
       "                [37.56675469, 126.9671896],\n",
       "                {}\n",
       "            ).addTo(map_c4ac511d90062240e5d35f13cb0f2b6f);\n",
       "        \n",
       "    \n",
       "        var popup_1ac6ca308c4bf3f8145cfd934bed92ec = L.popup({&quot;maxWidth&quot;: &quot;100%&quot;});\n",
       "\n",
       "        \n",
       "            \n",
       "                var html_efd00fa87922346de9da5a3a83cfe065 = $(`&lt;div id=&quot;html_efd00fa87922346de9da5a3a83cfe065&quot; style=&quot;width: 100.0%; height: 100.0%;&quot;&gt;서울적십자병원-서울특별시 종로구 새문안로 9&lt;/div&gt;`)[0];\n",
       "                popup_1ac6ca308c4bf3f8145cfd934bed92ec.setContent(html_efd00fa87922346de9da5a3a83cfe065);\n",
       "            \n",
       "        \n",
       "\n",
       "        marker_eddee3cc02c08edf574e0b35c0d3df8e.bindPopup(popup_1ac6ca308c4bf3f8145cfd934bed92ec)\n",
       "        ;\n",
       "\n",
       "        \n",
       "    \n",
       "    \n",
       "            var marker_1508ca88a4ca29a764737c714c12404d = L.marker(\n",
       "                [37.52847327, 126.8636196],\n",
       "                {}\n",
       "            ).addTo(map_c4ac511d90062240e5d35f13cb0f2b6f);\n",
       "        \n",
       "    \n",
       "        var popup_56d0fc996a5032b7a23d3264b2711fd8 = L.popup({&quot;maxWidth&quot;: &quot;100%&quot;});\n",
       "\n",
       "        \n",
       "            \n",
       "                var html_4009af9119c4fae530f76082af29b58d = $(`&lt;div id=&quot;html_4009af9119c4fae530f76082af29b58d&quot; style=&quot;width: 100.0%; height: 100.0%;&quot;&gt;홍익병원-서울특별시 양천구 목동로 225&lt;/div&gt;`)[0];\n",
       "                popup_56d0fc996a5032b7a23d3264b2711fd8.setContent(html_4009af9119c4fae530f76082af29b58d);\n",
       "            \n",
       "        \n",
       "\n",
       "        marker_1508ca88a4ca29a764737c714c12404d.bindPopup(popup_56d0fc996a5032b7a23d3264b2711fd8)\n",
       "        ;\n",
       "\n",
       "        \n",
       "    \n",
       "    \n",
       "            var marker_3a7c28fe8ccabfa39619ac132bb9ae79 = L.marker(\n",
       "                [37.50238224, 127.0058407],\n",
       "                {}\n",
       "            ).addTo(map_c4ac511d90062240e5d35f13cb0f2b6f);\n",
       "        \n",
       "    \n",
       "        var popup_5818308c8488ac9d8953b6d3bebe3cb9 = L.popup({&quot;maxWidth&quot;: &quot;100%&quot;});\n",
       "\n",
       "        \n",
       "            \n",
       "                var html_a7b705e01dae0fc21a833b08ea0db952 = $(`&lt;div id=&quot;html_a7b705e01dae0fc21a833b08ea0db952&quot; style=&quot;width: 100.0%; height: 100.0%;&quot;&gt;서울성모병원응급의료센터-서울특별시 서초구 반포대로 222&lt;/div&gt;`)[0];\n",
       "                popup_5818308c8488ac9d8953b6d3bebe3cb9.setContent(html_a7b705e01dae0fc21a833b08ea0db952);\n",
       "            \n",
       "        \n",
       "\n",
       "        marker_3a7c28fe8ccabfa39619ac132bb9ae79.bindPopup(popup_5818308c8488ac9d8953b6d3bebe3cb9)\n",
       "        ;\n",
       "\n",
       "        \n",
       "    \n",
       "    \n",
       "            var marker_99977650f02a6292d9232a4009271677 = L.marker(\n",
       "                [37.56366249, 126.9867578],\n",
       "                {}\n",
       "            ).addTo(map_c4ac511d90062240e5d35f13cb0f2b6f);\n",
       "        \n",
       "    \n",
       "        var popup_a0ff700731acdf68d559f4ec0416a9f4 = L.popup({&quot;maxWidth&quot;: &quot;100%&quot;});\n",
       "\n",
       "        \n",
       "            \n",
       "                var html_b36a9a82f135ff6fc6646e619f1afc95 = $(`&lt;div id=&quot;html_b36a9a82f135ff6fc6646e619f1afc95&quot; style=&quot;width: 100.0%; height: 100.0%;&quot;&gt;가톨릭대학교여의도성모병원-서울특별시 중구 명동길 74&lt;/div&gt;`)[0];\n",
       "                popup_a0ff700731acdf68d559f4ec0416a9f4.setContent(html_b36a9a82f135ff6fc6646e619f1afc95);\n",
       "            \n",
       "        \n",
       "\n",
       "        marker_99977650f02a6292d9232a4009271677.bindPopup(popup_a0ff700731acdf68d559f4ec0416a9f4)\n",
       "        ;\n",
       "\n",
       "        \n",
       "    \n",
       "    \n",
       "            var marker_6da6f91f4d57eebb29a377c4e401a44c = L.marker(\n",
       "                [37.51880698, 126.903857],\n",
       "                {}\n",
       "            ).addTo(map_c4ac511d90062240e5d35f13cb0f2b6f);\n",
       "        \n",
       "    \n",
       "        var popup_8c497a7f07d661b34c91999e36274808 = L.popup({&quot;maxWidth&quot;: &quot;100%&quot;});\n",
       "\n",
       "        \n",
       "            \n",
       "                var html_5cfa0bd27799877a093420af532b1b16 = $(`&lt;div id=&quot;html_5cfa0bd27799877a093420af532b1b16&quot; style=&quot;width: 100.0%; height: 100.0%;&quot;&gt;씨엠병원-서울특별시 영등포구 영등포로36길 13&lt;/div&gt;`)[0];\n",
       "                popup_8c497a7f07d661b34c91999e36274808.setContent(html_5cfa0bd27799877a093420af532b1b16);\n",
       "            \n",
       "        \n",
       "\n",
       "        marker_6da6f91f4d57eebb29a377c4e401a44c.bindPopup(popup_8c497a7f07d661b34c91999e36274808)\n",
       "        ;\n",
       "\n",
       "        \n",
       "    \n",
       "    \n",
       "            var marker_dc9732ac81dbba70162fd5b35331ea06 = L.marker(\n",
       "                [37.48560426, 127.0395669],\n",
       "                {}\n",
       "            ).addTo(map_c4ac511d90062240e5d35f13cb0f2b6f);\n",
       "        \n",
       "    \n",
       "        var popup_c549d743aa329b06fe24c5e21ef0fbe3 = L.popup({&quot;maxWidth&quot;: &quot;100%&quot;});\n",
       "\n",
       "        \n",
       "            \n",
       "                var html_29ebeb4b13d2bb3ad17b1f0f70b0b77e = $(`&lt;div id=&quot;html_29ebeb4b13d2bb3ad17b1f0f70b0b77e&quot; style=&quot;width: 100.0%; height: 100.0%;&quot;&gt;성베드로병원-서울특별시 강남구 남부순환로 2649&lt;/div&gt;`)[0];\n",
       "                popup_c549d743aa329b06fe24c5e21ef0fbe3.setContent(html_29ebeb4b13d2bb3ad17b1f0f70b0b77e);\n",
       "            \n",
       "        \n",
       "\n",
       "        marker_dc9732ac81dbba70162fd5b35331ea06.bindPopup(popup_c549d743aa329b06fe24c5e21ef0fbe3)\n",
       "        ;\n",
       "\n",
       "        \n",
       "    \n",
       "&lt;/script&gt;\n",
       "&lt;/html&gt;\" style=\"position:absolute;width:100%;height:100%;left:0;top:0;border:none !important;\" allowfullscreen webkitallowfullscreen mozallowfullscreen></iframe></div></div>"
      ],
      "text/plain": [
       "<folium.folium.Map at 0x18d455f2d00>"
      ]
     },
     "execution_count": 95,
     "metadata": {},
     "output_type": "execute_result"
    }
   ],
   "source": [
    "map = folium.Map(location= [df_seoul_hospital['위도'].mean(),df_seoul_hospital['경도'].mean()],\n",
    "          zoom_start=12)\n",
    "for n in df_seoul_hospital.index:\n",
    "    name = df_seoul_hospital.loc[n,'상호명']\n",
    "    address = df_seoul_hospital.loc[n,'도로명주소']\n",
    "    popup = f\"{name}-{address}\"\n",
    "    location = df_seoul_hospital.loc[n,'위도'],df_seoul_hospital.loc[n,'경도']\n",
    "    folium.Marker(location=location, popup = popup).add_to(map)\n",
    "\n",
    "map\n",
    "    \n"
   ]
  },
  {
   "cell_type": "code",
   "execution_count": null,
   "id": "c8b3334c",
   "metadata": {},
   "outputs": [],
   "source": []
  }
 ],
 "metadata": {
  "kernelspec": {
   "display_name": "Python 3 (ipykernel)",
   "language": "python",
   "name": "python3"
  },
  "language_info": {
   "codemirror_mode": {
    "name": "ipython",
    "version": 3
   },
   "file_extension": ".py",
   "mimetype": "text/x-python",
   "name": "python",
   "nbconvert_exporter": "python",
   "pygments_lexer": "ipython3",
   "version": "3.9.7"
  },
  "toc": {
   "base_numbering": 1,
   "nav_menu": {},
   "number_sections": true,
   "sideBar": true,
   "skip_h1_title": false,
   "title_cell": "Table of Contents",
   "title_sidebar": "Contents",
   "toc_cell": false,
   "toc_position": {
    "height": "528px",
    "left": "33px",
    "top": "111.125px",
    "width": "165px"
   },
   "toc_section_display": true,
   "toc_window_display": true
  }
 },
 "nbformat": 4,
 "nbformat_minor": 5
}
